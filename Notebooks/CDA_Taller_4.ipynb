{
  "nbformat": 4,
  "nbformat_minor": 0,
  "metadata": {
    "colab": {
      "provenance": [],
      "toc_visible": true,
      "machine_shape": "hm"
    },
    "kernelspec": {
      "name": "python3",
      "display_name": "Python 3"
    },
    "language_info": {
      "name": "python"
    },
    "gpuClass": "standard"
  },
  "cells": [
    {
      "cell_type": "markdown",
      "metadata": {
        "id": "Su_AIMpPjcUc"
      },
      "source": [
        "#MINE-4101: CIENCIA DE DATOS APLICADA - TALLER 4 \n",
        "\n",
        "Oscar Fernando Bosigas Puerto – 202220008 - o.bosigas\n",
        "\n",
        "Yeimy Andrea Cano M – 202213304 - y.cano\n",
        "\n",
        "David Polania Mejia - 202213328 - d.polaniam\n"
      ]
    },
    {
      "cell_type": "code",
      "source": [
        "!pip install shap"
      ],
      "metadata": {
        "colab": {
          "base_uri": "https://localhost:8080/"
        },
        "id": "GVeGhb3QIln5",
        "outputId": "9d43f3d2-1e73-46df-b688-15a4af826613"
      },
      "execution_count": 370,
      "outputs": [
        {
          "output_type": "stream",
          "name": "stdout",
          "text": [
            "Looking in indexes: https://pypi.org/simple, https://us-python.pkg.dev/colab-wheels/public/simple/\n",
            "Collecting shap\n",
            "  Downloading shap-0.41.0-cp38-cp38-manylinux_2_12_x86_64.manylinux2010_x86_64.whl (575 kB)\n",
            "\u001b[K     |████████████████████████████████| 575 kB 5.2 MB/s \n",
            "\u001b[?25hRequirement already satisfied: numba in /usr/local/lib/python3.8/dist-packages (from shap) (0.56.4)\n",
            "Requirement already satisfied: packaging>20.9 in /usr/local/lib/python3.8/dist-packages (from shap) (21.3)\n",
            "Requirement already satisfied: scikit-learn in /usr/local/lib/python3.8/dist-packages (from shap) (1.0.2)\n",
            "Requirement already satisfied: scipy in /usr/local/lib/python3.8/dist-packages (from shap) (1.7.3)\n",
            "Requirement already satisfied: tqdm>4.25.0 in /usr/local/lib/python3.8/dist-packages (from shap) (4.64.1)\n",
            "Requirement already satisfied: numpy in /usr/local/lib/python3.8/dist-packages (from shap) (1.21.6)\n",
            "Collecting slicer==0.0.7\n",
            "  Downloading slicer-0.0.7-py3-none-any.whl (14 kB)\n",
            "Requirement already satisfied: pandas in /usr/local/lib/python3.8/dist-packages (from shap) (1.3.5)\n",
            "Requirement already satisfied: cloudpickle in /usr/local/lib/python3.8/dist-packages (from shap) (1.5.0)\n",
            "Requirement already satisfied: pyparsing!=3.0.5,>=2.0.2 in /usr/local/lib/python3.8/dist-packages (from packaging>20.9->shap) (3.0.9)\n",
            "Requirement already satisfied: llvmlite<0.40,>=0.39.0dev0 in /usr/local/lib/python3.8/dist-packages (from numba->shap) (0.39.1)\n",
            "Requirement already satisfied: importlib-metadata in /usr/local/lib/python3.8/dist-packages (from numba->shap) (4.13.0)\n",
            "Requirement already satisfied: setuptools in /usr/local/lib/python3.8/dist-packages (from numba->shap) (57.4.0)\n",
            "Requirement already satisfied: zipp>=0.5 in /usr/local/lib/python3.8/dist-packages (from importlib-metadata->numba->shap) (3.10.0)\n",
            "Requirement already satisfied: pytz>=2017.3 in /usr/local/lib/python3.8/dist-packages (from pandas->shap) (2022.6)\n",
            "Requirement already satisfied: python-dateutil>=2.7.3 in /usr/local/lib/python3.8/dist-packages (from pandas->shap) (2.8.2)\n",
            "Requirement already satisfied: six>=1.5 in /usr/local/lib/python3.8/dist-packages (from python-dateutil>=2.7.3->pandas->shap) (1.15.0)\n",
            "Requirement already satisfied: threadpoolctl>=2.0.0 in /usr/local/lib/python3.8/dist-packages (from scikit-learn->shap) (3.1.0)\n",
            "Requirement already satisfied: joblib>=0.11 in /usr/local/lib/python3.8/dist-packages (from scikit-learn->shap) (1.2.0)\n",
            "Installing collected packages: slicer, shap\n",
            "Successfully installed shap-0.41.0 slicer-0.0.7\n"
          ]
        }
      ]
    },
    {
      "cell_type": "code",
      "execution_count": 371,
      "metadata": {
        "id": "b0a2b1b8"
      },
      "outputs": [],
      "source": [
        "#Importaciones necesarias\n",
        "\n",
        "import pandas as pd \n",
        "import numpy as np\n",
        "import matplotlib.pyplot as plt\n",
        "import seaborn as sns\n",
        "import re\n",
        "\n",
        "#from pandas_profiling import ProfileReport\n",
        "from datetime import datetime\n",
        "from sklearn.preprocessing import PolynomialFeatures, MinMaxScaler, OrdinalEncoder, OneHotEncoder, StandardScaler, LabelEncoder, PowerTransformer\n",
        "from sklearn.model_selection import train_test_split, GridSearchCV\n",
        "from sklearn.linear_model import LinearRegression, LassoCV, RidgeCV, Lasso, Ridge\n",
        "from sklearn.metrics import mean_squared_error, mean_absolute_error, r2_score\n",
        "from sklearn.neural_network import MLPRegressor\n",
        "from sklearn.ensemble import RandomForestRegressor\n",
        "from sklearn.svm import SVR\n",
        "from sklearn.pipeline import Pipeline\n",
        "from sklearn.decomposition import PCA\n",
        "\n",
        "from sklearn.compose import ColumnTransformer\n",
        "\n",
        "from sklearn.tree import DecisionTreeClassifier\n",
        "from sklearn.linear_model import LogisticRegression\n",
        "from sklearn.neural_network import MLPClassifier\n",
        "from sklearn.ensemble import RandomForestClassifier\n",
        "from sklearn.svm import SVC\n",
        "from sklearn.metrics import classification_report, confusion_matrix, mean_squared_error, r2_score\n",
        "from joblib import dump\n",
        "import shap"
      ]
    },
    {
      "cell_type": "markdown",
      "metadata": {
        "id": "Hv3mcK6Nw7jD"
      },
      "source": [
        "# **Entendimiento de los Datos**"
      ]
    },
    {
      "cell_type": "markdown",
      "metadata": {
        "id": "jJWpRSlvIObo"
      },
      "source": [
        "Primero se procede a hacer el cargue de los datos que están en el repositorio git del proyecto."
      ]
    },
    {
      "cell_type": "code",
      "execution_count": 316,
      "metadata": {
        "id": "f10566cf"
      },
      "outputs": [],
      "source": [
        "data = pd.read_json('https://raw.githubusercontent.com/yacanom/CDA_taller-4/main/DataSet_Entrenamiento_v1.json')"
      ]
    },
    {
      "cell_type": "markdown",
      "metadata": {
        "id": "mYGXjbK0yddg"
      },
      "source": [
        "El diccionario de datos provistos es:"
      ]
    },
    {
      "cell_type": "markdown",
      "metadata": {
        "id": "5PnrZlqDx84J"
      },
      "source": [
        "|Field | Description|\n",
        "| --- | --- |\n",
        "|customerID | Customer ID|\n",
        "|gender | Whether the customer is a male or a female|\n",
        "|SeniorCitizen| Whether the customer is a senior citizen or not (1, 0)|\n",
        "|Partner| Whether the customer has a partner or not (Yes, No)|\n",
        "|Dependents| Whether the customer has dependents or not (Yes, No)|\n",
        "|tenure| Number of months the customer has stayed with the company|\n",
        "|PhoneService| Whether the customer has a phone service or not (Yes, No)|\n",
        "|MultipleLines| Whether the customer has multiple lines or not (Yes, No, No phoneservice)|\n",
        "|InternetService| Customer’s internet service provider (DSL, Fiber optic, No) |\n",
        "|OnlineSecurity| Whether the customer has online security or not (Yes, No, No internet service)|\n",
        "|OnlineBackup| Whether the customer has online backup or not (Yes, No, No internet service)|\n",
        "|DeviceProtection| Whether the customer has device protection or not (Yes, No, No internet service)|\n",
        "|TechSupport| Whether the customer has tech support or not (Yes, No, No internet service)|\n",
        "|StreamingTV| Whether the customer has streaming TV or not (Yes, No, No internet service)|\n",
        "|StreamingMovies| Whether the customer has streaming movies or not (Yes, No, No internet service)|\n",
        "|Contract| The contract term of the customer (Month-to-month, One year, Two  year)|\n",
        "|PaperlessBilling| Whether the customer has paperless billing or not (Yes, No)|\n",
        "|PaymentMethod| The customer’s payment method (Electronic check, Mailed check, Bank transfer (automatic), Credit card (automatic))|\n",
        "|MonthlyCharges| The amount charged to the customer monthly|\n",
        "|TotalCharges| The total amount charged to the customer|\n",
        "|Churn| Whether the customer churned or not (Yes or No)|\n",
        "\n",
        "---\n",
        "\n",
        "\n"
      ]
    },
    {
      "cell_type": "code",
      "execution_count": 317,
      "metadata": {
        "colab": {
          "base_uri": "https://localhost:8080/"
        },
        "id": "0Ir4FWGz4oZE",
        "outputId": "98e9e84c-b9fb-4ede-f0e6-502f7c16b4bc"
      },
      "outputs": [
        {
          "output_type": "execute_result",
          "data": {
            "text/plain": [
              "(6000, 21)"
            ]
          },
          "metadata": {},
          "execution_count": 317
        }
      ],
      "source": [
        "#se identifica el total de datos que se tienen:\n",
        "data.shape"
      ]
    },
    {
      "cell_type": "markdown",
      "source": [
        "Se hace una exploración a alto nivel de los datos:"
      ],
      "metadata": {
        "id": "vX4blEc0S6h4"
      }
    },
    {
      "cell_type": "code",
      "source": [
        "data.head()"
      ],
      "metadata": {
        "colab": {
          "base_uri": "https://localhost:8080/",
          "height": 386
        },
        "id": "qwwPJHE6IIXB",
        "outputId": "795b802c-5240-4ffb-d8c0-e498e764200e"
      },
      "execution_count": 318,
      "outputs": [
        {
          "output_type": "execute_result",
          "data": {
            "text/plain": [
              "   customerID  gender  SeniorCitizen Partner Dependents  tenure PhoneService  \\\n",
              "0  7590-VHVEG  Female              0     Yes         No       1           No   \n",
              "1  5575-GNVDE    Male              0      No         No      34          Yes   \n",
              "2  3668-QPYBK    Male              0      No         No       2          Yes   \n",
              "3  5386-THSLQ  Female              1     Yes         No      66           No   \n",
              "4  3192-NQECA    Male              0     Yes         No      68          Yes   \n",
              "\n",
              "      MultipleLines InternetService OnlineSecurity  ... DeviceProtection  \\\n",
              "0  No phone service             DSL             No  ...               No   \n",
              "1                No             DSL            Yes  ...              Yes   \n",
              "2                No             DSL            Yes  ...               No   \n",
              "3  No phone service             DSL             No  ...              Yes   \n",
              "4               Yes     Fiber optic             No  ...              Yes   \n",
              "\n",
              "  TechSupport StreamingTV StreamingMovies        Contract PaperlessBilling  \\\n",
              "0          No          No              No  Month-to-month              Yes   \n",
              "1          No          No              No        One year               No   \n",
              "2          No          No              No  Month-to-month              Yes   \n",
              "3          No         Yes              No        One year               No   \n",
              "4         Yes         Yes             Yes        Two year              Yes   \n",
              "\n",
              "               PaymentMethod MonthlyCharges  TotalCharges Churn  \n",
              "0           Electronic check          29.85         29.85    No  \n",
              "1               Mailed check          56.95        1889.5    No  \n",
              "2               Mailed check          53.85        108.15   Yes  \n",
              "3  Bank transfer (automatic)          45.55       3027.25    No  \n",
              "4  Bank transfer (automatic)         110.00       7611.85   Yes  \n",
              "\n",
              "[5 rows x 21 columns]"
            ],
            "text/html": [
              "\n",
              "  <div id=\"df-40e0111e-e1ee-49e0-b515-1be463688d08\">\n",
              "    <div class=\"colab-df-container\">\n",
              "      <div>\n",
              "<style scoped>\n",
              "    .dataframe tbody tr th:only-of-type {\n",
              "        vertical-align: middle;\n",
              "    }\n",
              "\n",
              "    .dataframe tbody tr th {\n",
              "        vertical-align: top;\n",
              "    }\n",
              "\n",
              "    .dataframe thead th {\n",
              "        text-align: right;\n",
              "    }\n",
              "</style>\n",
              "<table border=\"1\" class=\"dataframe\">\n",
              "  <thead>\n",
              "    <tr style=\"text-align: right;\">\n",
              "      <th></th>\n",
              "      <th>customerID</th>\n",
              "      <th>gender</th>\n",
              "      <th>SeniorCitizen</th>\n",
              "      <th>Partner</th>\n",
              "      <th>Dependents</th>\n",
              "      <th>tenure</th>\n",
              "      <th>PhoneService</th>\n",
              "      <th>MultipleLines</th>\n",
              "      <th>InternetService</th>\n",
              "      <th>OnlineSecurity</th>\n",
              "      <th>...</th>\n",
              "      <th>DeviceProtection</th>\n",
              "      <th>TechSupport</th>\n",
              "      <th>StreamingTV</th>\n",
              "      <th>StreamingMovies</th>\n",
              "      <th>Contract</th>\n",
              "      <th>PaperlessBilling</th>\n",
              "      <th>PaymentMethod</th>\n",
              "      <th>MonthlyCharges</th>\n",
              "      <th>TotalCharges</th>\n",
              "      <th>Churn</th>\n",
              "    </tr>\n",
              "  </thead>\n",
              "  <tbody>\n",
              "    <tr>\n",
              "      <th>0</th>\n",
              "      <td>7590-VHVEG</td>\n",
              "      <td>Female</td>\n",
              "      <td>0</td>\n",
              "      <td>Yes</td>\n",
              "      <td>No</td>\n",
              "      <td>1</td>\n",
              "      <td>No</td>\n",
              "      <td>No phone service</td>\n",
              "      <td>DSL</td>\n",
              "      <td>No</td>\n",
              "      <td>...</td>\n",
              "      <td>No</td>\n",
              "      <td>No</td>\n",
              "      <td>No</td>\n",
              "      <td>No</td>\n",
              "      <td>Month-to-month</td>\n",
              "      <td>Yes</td>\n",
              "      <td>Electronic check</td>\n",
              "      <td>29.85</td>\n",
              "      <td>29.85</td>\n",
              "      <td>No</td>\n",
              "    </tr>\n",
              "    <tr>\n",
              "      <th>1</th>\n",
              "      <td>5575-GNVDE</td>\n",
              "      <td>Male</td>\n",
              "      <td>0</td>\n",
              "      <td>No</td>\n",
              "      <td>No</td>\n",
              "      <td>34</td>\n",
              "      <td>Yes</td>\n",
              "      <td>No</td>\n",
              "      <td>DSL</td>\n",
              "      <td>Yes</td>\n",
              "      <td>...</td>\n",
              "      <td>Yes</td>\n",
              "      <td>No</td>\n",
              "      <td>No</td>\n",
              "      <td>No</td>\n",
              "      <td>One year</td>\n",
              "      <td>No</td>\n",
              "      <td>Mailed check</td>\n",
              "      <td>56.95</td>\n",
              "      <td>1889.5</td>\n",
              "      <td>No</td>\n",
              "    </tr>\n",
              "    <tr>\n",
              "      <th>2</th>\n",
              "      <td>3668-QPYBK</td>\n",
              "      <td>Male</td>\n",
              "      <td>0</td>\n",
              "      <td>No</td>\n",
              "      <td>No</td>\n",
              "      <td>2</td>\n",
              "      <td>Yes</td>\n",
              "      <td>No</td>\n",
              "      <td>DSL</td>\n",
              "      <td>Yes</td>\n",
              "      <td>...</td>\n",
              "      <td>No</td>\n",
              "      <td>No</td>\n",
              "      <td>No</td>\n",
              "      <td>No</td>\n",
              "      <td>Month-to-month</td>\n",
              "      <td>Yes</td>\n",
              "      <td>Mailed check</td>\n",
              "      <td>53.85</td>\n",
              "      <td>108.15</td>\n",
              "      <td>Yes</td>\n",
              "    </tr>\n",
              "    <tr>\n",
              "      <th>3</th>\n",
              "      <td>5386-THSLQ</td>\n",
              "      <td>Female</td>\n",
              "      <td>1</td>\n",
              "      <td>Yes</td>\n",
              "      <td>No</td>\n",
              "      <td>66</td>\n",
              "      <td>No</td>\n",
              "      <td>No phone service</td>\n",
              "      <td>DSL</td>\n",
              "      <td>No</td>\n",
              "      <td>...</td>\n",
              "      <td>Yes</td>\n",
              "      <td>No</td>\n",
              "      <td>Yes</td>\n",
              "      <td>No</td>\n",
              "      <td>One year</td>\n",
              "      <td>No</td>\n",
              "      <td>Bank transfer (automatic)</td>\n",
              "      <td>45.55</td>\n",
              "      <td>3027.25</td>\n",
              "      <td>No</td>\n",
              "    </tr>\n",
              "    <tr>\n",
              "      <th>4</th>\n",
              "      <td>3192-NQECA</td>\n",
              "      <td>Male</td>\n",
              "      <td>0</td>\n",
              "      <td>Yes</td>\n",
              "      <td>No</td>\n",
              "      <td>68</td>\n",
              "      <td>Yes</td>\n",
              "      <td>Yes</td>\n",
              "      <td>Fiber optic</td>\n",
              "      <td>No</td>\n",
              "      <td>...</td>\n",
              "      <td>Yes</td>\n",
              "      <td>Yes</td>\n",
              "      <td>Yes</td>\n",
              "      <td>Yes</td>\n",
              "      <td>Two year</td>\n",
              "      <td>Yes</td>\n",
              "      <td>Bank transfer (automatic)</td>\n",
              "      <td>110.00</td>\n",
              "      <td>7611.85</td>\n",
              "      <td>Yes</td>\n",
              "    </tr>\n",
              "  </tbody>\n",
              "</table>\n",
              "<p>5 rows × 21 columns</p>\n",
              "</div>\n",
              "      <button class=\"colab-df-convert\" onclick=\"convertToInteractive('df-40e0111e-e1ee-49e0-b515-1be463688d08')\"\n",
              "              title=\"Convert this dataframe to an interactive table.\"\n",
              "              style=\"display:none;\">\n",
              "        \n",
              "  <svg xmlns=\"http://www.w3.org/2000/svg\" height=\"24px\"viewBox=\"0 0 24 24\"\n",
              "       width=\"24px\">\n",
              "    <path d=\"M0 0h24v24H0V0z\" fill=\"none\"/>\n",
              "    <path d=\"M18.56 5.44l.94 2.06.94-2.06 2.06-.94-2.06-.94-.94-2.06-.94 2.06-2.06.94zm-11 1L8.5 8.5l.94-2.06 2.06-.94-2.06-.94L8.5 2.5l-.94 2.06-2.06.94zm10 10l.94 2.06.94-2.06 2.06-.94-2.06-.94-.94-2.06-.94 2.06-2.06.94z\"/><path d=\"M17.41 7.96l-1.37-1.37c-.4-.4-.92-.59-1.43-.59-.52 0-1.04.2-1.43.59L10.3 9.45l-7.72 7.72c-.78.78-.78 2.05 0 2.83L4 21.41c.39.39.9.59 1.41.59.51 0 1.02-.2 1.41-.59l7.78-7.78 2.81-2.81c.8-.78.8-2.07 0-2.86zM5.41 20L4 18.59l7.72-7.72 1.47 1.35L5.41 20z\"/>\n",
              "  </svg>\n",
              "      </button>\n",
              "      \n",
              "  <style>\n",
              "    .colab-df-container {\n",
              "      display:flex;\n",
              "      flex-wrap:wrap;\n",
              "      gap: 12px;\n",
              "    }\n",
              "\n",
              "    .colab-df-convert {\n",
              "      background-color: #E8F0FE;\n",
              "      border: none;\n",
              "      border-radius: 50%;\n",
              "      cursor: pointer;\n",
              "      display: none;\n",
              "      fill: #1967D2;\n",
              "      height: 32px;\n",
              "      padding: 0 0 0 0;\n",
              "      width: 32px;\n",
              "    }\n",
              "\n",
              "    .colab-df-convert:hover {\n",
              "      background-color: #E2EBFA;\n",
              "      box-shadow: 0px 1px 2px rgba(60, 64, 67, 0.3), 0px 1px 3px 1px rgba(60, 64, 67, 0.15);\n",
              "      fill: #174EA6;\n",
              "    }\n",
              "\n",
              "    [theme=dark] .colab-df-convert {\n",
              "      background-color: #3B4455;\n",
              "      fill: #D2E3FC;\n",
              "    }\n",
              "\n",
              "    [theme=dark] .colab-df-convert:hover {\n",
              "      background-color: #434B5C;\n",
              "      box-shadow: 0px 1px 3px 1px rgba(0, 0, 0, 0.15);\n",
              "      filter: drop-shadow(0px 1px 2px rgba(0, 0, 0, 0.3));\n",
              "      fill: #FFFFFF;\n",
              "    }\n",
              "  </style>\n",
              "\n",
              "      <script>\n",
              "        const buttonEl =\n",
              "          document.querySelector('#df-40e0111e-e1ee-49e0-b515-1be463688d08 button.colab-df-convert');\n",
              "        buttonEl.style.display =\n",
              "          google.colab.kernel.accessAllowed ? 'block' : 'none';\n",
              "\n",
              "        async function convertToInteractive(key) {\n",
              "          const element = document.querySelector('#df-40e0111e-e1ee-49e0-b515-1be463688d08');\n",
              "          const dataTable =\n",
              "            await google.colab.kernel.invokeFunction('convertToInteractive',\n",
              "                                                     [key], {});\n",
              "          if (!dataTable) return;\n",
              "\n",
              "          const docLinkHtml = 'Like what you see? Visit the ' +\n",
              "            '<a target=\"_blank\" href=https://colab.research.google.com/notebooks/data_table.ipynb>data table notebook</a>'\n",
              "            + ' to learn more about interactive tables.';\n",
              "          element.innerHTML = '';\n",
              "          dataTable['output_type'] = 'display_data';\n",
              "          await google.colab.output.renderOutput(dataTable, element);\n",
              "          const docLink = document.createElement('div');\n",
              "          docLink.innerHTML = docLinkHtml;\n",
              "          element.appendChild(docLink);\n",
              "        }\n",
              "      </script>\n",
              "    </div>\n",
              "  </div>\n",
              "  "
            ]
          },
          "metadata": {},
          "execution_count": 318
        }
      ]
    },
    {
      "cell_type": "code",
      "source": [
        "#Conocer los tipos de datos:\n",
        "data.info()"
      ],
      "metadata": {
        "colab": {
          "base_uri": "https://localhost:8080/"
        },
        "id": "jhB66A0XIqgY",
        "outputId": "5e8181f8-a2a6-4eec-9e88-4c793e0e87b0"
      },
      "execution_count": 319,
      "outputs": [
        {
          "output_type": "stream",
          "name": "stdout",
          "text": [
            "<class 'pandas.core.frame.DataFrame'>\n",
            "RangeIndex: 6000 entries, 0 to 5999\n",
            "Data columns (total 21 columns):\n",
            " #   Column            Non-Null Count  Dtype  \n",
            "---  ------            --------------  -----  \n",
            " 0   customerID        6000 non-null   object \n",
            " 1   gender            6000 non-null   object \n",
            " 2   SeniorCitizen     6000 non-null   int64  \n",
            " 3   Partner           6000 non-null   object \n",
            " 4   Dependents        6000 non-null   object \n",
            " 5   tenure            6000 non-null   int64  \n",
            " 6   PhoneService      6000 non-null   object \n",
            " 7   MultipleLines     6000 non-null   object \n",
            " 8   InternetService   6000 non-null   object \n",
            " 9   OnlineSecurity    6000 non-null   object \n",
            " 10  OnlineBackup      6000 non-null   object \n",
            " 11  DeviceProtection  6000 non-null   object \n",
            " 12  TechSupport       6000 non-null   object \n",
            " 13  StreamingTV       6000 non-null   object \n",
            " 14  StreamingMovies   6000 non-null   object \n",
            " 15  Contract          6000 non-null   object \n",
            " 16  PaperlessBilling  6000 non-null   object \n",
            " 17  PaymentMethod     6000 non-null   object \n",
            " 18  MonthlyCharges    6000 non-null   float64\n",
            " 19  TotalCharges      6000 non-null   object \n",
            " 20  Churn             6000 non-null   object \n",
            "dtypes: float64(1), int64(2), object(18)\n",
            "memory usage: 984.5+ KB\n"
          ]
        }
      ]
    },
    {
      "cell_type": "markdown",
      "source": [
        "No se identifican datos faltantes. Se tienen 3 variables de tipo numérico: tenure, MonthlyCharges y SeniorCitizen, esta ultima realmente es categórica y tiene dos posibles opciones 0 y 1"
      ],
      "metadata": {
        "id": "AlWvlvOlJFGH"
      }
    },
    {
      "cell_type": "code",
      "source": [
        "data.describe()"
      ],
      "metadata": {
        "colab": {
          "base_uri": "https://localhost:8080/",
          "height": 300
        },
        "id": "08XwAplhI_lY",
        "outputId": "1853159f-128e-456a-f24d-2b36ae2b210a"
      },
      "execution_count": 320,
      "outputs": [
        {
          "output_type": "execute_result",
          "data": {
            "text/plain": [
              "       SeniorCitizen       tenure  MonthlyCharges\n",
              "count    6000.000000  6000.000000     6000.000000\n",
              "mean        0.160167    32.320667       64.607233\n",
              "std         0.366791    24.637296       30.195382\n",
              "min         0.000000     0.000000       18.250000\n",
              "25%         0.000000     9.000000       35.000000\n",
              "50%         0.000000    29.000000       70.300000\n",
              "75%         0.000000    56.000000       89.850000\n",
              "max         1.000000    72.000000      118.750000"
            ],
            "text/html": [
              "\n",
              "  <div id=\"df-282cbe8f-0f22-47e0-a4c6-87f6d526711e\">\n",
              "    <div class=\"colab-df-container\">\n",
              "      <div>\n",
              "<style scoped>\n",
              "    .dataframe tbody tr th:only-of-type {\n",
              "        vertical-align: middle;\n",
              "    }\n",
              "\n",
              "    .dataframe tbody tr th {\n",
              "        vertical-align: top;\n",
              "    }\n",
              "\n",
              "    .dataframe thead th {\n",
              "        text-align: right;\n",
              "    }\n",
              "</style>\n",
              "<table border=\"1\" class=\"dataframe\">\n",
              "  <thead>\n",
              "    <tr style=\"text-align: right;\">\n",
              "      <th></th>\n",
              "      <th>SeniorCitizen</th>\n",
              "      <th>tenure</th>\n",
              "      <th>MonthlyCharges</th>\n",
              "    </tr>\n",
              "  </thead>\n",
              "  <tbody>\n",
              "    <tr>\n",
              "      <th>count</th>\n",
              "      <td>6000.000000</td>\n",
              "      <td>6000.000000</td>\n",
              "      <td>6000.000000</td>\n",
              "    </tr>\n",
              "    <tr>\n",
              "      <th>mean</th>\n",
              "      <td>0.160167</td>\n",
              "      <td>32.320667</td>\n",
              "      <td>64.607233</td>\n",
              "    </tr>\n",
              "    <tr>\n",
              "      <th>std</th>\n",
              "      <td>0.366791</td>\n",
              "      <td>24.637296</td>\n",
              "      <td>30.195382</td>\n",
              "    </tr>\n",
              "    <tr>\n",
              "      <th>min</th>\n",
              "      <td>0.000000</td>\n",
              "      <td>0.000000</td>\n",
              "      <td>18.250000</td>\n",
              "    </tr>\n",
              "    <tr>\n",
              "      <th>25%</th>\n",
              "      <td>0.000000</td>\n",
              "      <td>9.000000</td>\n",
              "      <td>35.000000</td>\n",
              "    </tr>\n",
              "    <tr>\n",
              "      <th>50%</th>\n",
              "      <td>0.000000</td>\n",
              "      <td>29.000000</td>\n",
              "      <td>70.300000</td>\n",
              "    </tr>\n",
              "    <tr>\n",
              "      <th>75%</th>\n",
              "      <td>0.000000</td>\n",
              "      <td>56.000000</td>\n",
              "      <td>89.850000</td>\n",
              "    </tr>\n",
              "    <tr>\n",
              "      <th>max</th>\n",
              "      <td>1.000000</td>\n",
              "      <td>72.000000</td>\n",
              "      <td>118.750000</td>\n",
              "    </tr>\n",
              "  </tbody>\n",
              "</table>\n",
              "</div>\n",
              "      <button class=\"colab-df-convert\" onclick=\"convertToInteractive('df-282cbe8f-0f22-47e0-a4c6-87f6d526711e')\"\n",
              "              title=\"Convert this dataframe to an interactive table.\"\n",
              "              style=\"display:none;\">\n",
              "        \n",
              "  <svg xmlns=\"http://www.w3.org/2000/svg\" height=\"24px\"viewBox=\"0 0 24 24\"\n",
              "       width=\"24px\">\n",
              "    <path d=\"M0 0h24v24H0V0z\" fill=\"none\"/>\n",
              "    <path d=\"M18.56 5.44l.94 2.06.94-2.06 2.06-.94-2.06-.94-.94-2.06-.94 2.06-2.06.94zm-11 1L8.5 8.5l.94-2.06 2.06-.94-2.06-.94L8.5 2.5l-.94 2.06-2.06.94zm10 10l.94 2.06.94-2.06 2.06-.94-2.06-.94-.94-2.06-.94 2.06-2.06.94z\"/><path d=\"M17.41 7.96l-1.37-1.37c-.4-.4-.92-.59-1.43-.59-.52 0-1.04.2-1.43.59L10.3 9.45l-7.72 7.72c-.78.78-.78 2.05 0 2.83L4 21.41c.39.39.9.59 1.41.59.51 0 1.02-.2 1.41-.59l7.78-7.78 2.81-2.81c.8-.78.8-2.07 0-2.86zM5.41 20L4 18.59l7.72-7.72 1.47 1.35L5.41 20z\"/>\n",
              "  </svg>\n",
              "      </button>\n",
              "      \n",
              "  <style>\n",
              "    .colab-df-container {\n",
              "      display:flex;\n",
              "      flex-wrap:wrap;\n",
              "      gap: 12px;\n",
              "    }\n",
              "\n",
              "    .colab-df-convert {\n",
              "      background-color: #E8F0FE;\n",
              "      border: none;\n",
              "      border-radius: 50%;\n",
              "      cursor: pointer;\n",
              "      display: none;\n",
              "      fill: #1967D2;\n",
              "      height: 32px;\n",
              "      padding: 0 0 0 0;\n",
              "      width: 32px;\n",
              "    }\n",
              "\n",
              "    .colab-df-convert:hover {\n",
              "      background-color: #E2EBFA;\n",
              "      box-shadow: 0px 1px 2px rgba(60, 64, 67, 0.3), 0px 1px 3px 1px rgba(60, 64, 67, 0.15);\n",
              "      fill: #174EA6;\n",
              "    }\n",
              "\n",
              "    [theme=dark] .colab-df-convert {\n",
              "      background-color: #3B4455;\n",
              "      fill: #D2E3FC;\n",
              "    }\n",
              "\n",
              "    [theme=dark] .colab-df-convert:hover {\n",
              "      background-color: #434B5C;\n",
              "      box-shadow: 0px 1px 3px 1px rgba(0, 0, 0, 0.15);\n",
              "      filter: drop-shadow(0px 1px 2px rgba(0, 0, 0, 0.3));\n",
              "      fill: #FFFFFF;\n",
              "    }\n",
              "  </style>\n",
              "\n",
              "      <script>\n",
              "        const buttonEl =\n",
              "          document.querySelector('#df-282cbe8f-0f22-47e0-a4c6-87f6d526711e button.colab-df-convert');\n",
              "        buttonEl.style.display =\n",
              "          google.colab.kernel.accessAllowed ? 'block' : 'none';\n",
              "\n",
              "        async function convertToInteractive(key) {\n",
              "          const element = document.querySelector('#df-282cbe8f-0f22-47e0-a4c6-87f6d526711e');\n",
              "          const dataTable =\n",
              "            await google.colab.kernel.invokeFunction('convertToInteractive',\n",
              "                                                     [key], {});\n",
              "          if (!dataTable) return;\n",
              "\n",
              "          const docLinkHtml = 'Like what you see? Visit the ' +\n",
              "            '<a target=\"_blank\" href=https://colab.research.google.com/notebooks/data_table.ipynb>data table notebook</a>'\n",
              "            + ' to learn more about interactive tables.';\n",
              "          element.innerHTML = '';\n",
              "          dataTable['output_type'] = 'display_data';\n",
              "          await google.colab.output.renderOutput(dataTable, element);\n",
              "          const docLink = document.createElement('div');\n",
              "          docLink.innerHTML = docLinkHtml;\n",
              "          element.appendChild(docLink);\n",
              "        }\n",
              "      </script>\n",
              "    </div>\n",
              "  </div>\n",
              "  "
            ]
          },
          "metadata": {},
          "execution_count": 320
        }
      ]
    },
    {
      "cell_type": "markdown",
      "source": [
        "## Variables Numéricas"
      ],
      "metadata": {
        "id": "9LnLJIVexUyb"
      }
    },
    {
      "cell_type": "markdown",
      "source": [
        "###tenure          "
      ],
      "metadata": {
        "id": "xSJEi2_HxoGn"
      }
    },
    {
      "cell_type": "code",
      "source": [
        "#Ver datos con clientes de 0 años con el servicio:\n",
        "data[ data['tenure'] == 0 ]"
      ],
      "metadata": {
        "colab": {
          "base_uri": "https://localhost:8080/",
          "height": 630
        },
        "id": "7DNzawqVKj_3",
        "outputId": "cecb0550-09f0-4235-f090-f63b8687c596"
      },
      "execution_count": 321,
      "outputs": [
        {
          "output_type": "execute_result",
          "data": {
            "text/plain": [
              "      customerID  gender  SeniorCitizen Partner Dependents  tenure  \\\n",
              "288   4472-LVYGI  Female              0     Yes        Yes       0   \n",
              "553   3115-CZMZD    Male              0      No        Yes       0   \n",
              "736   5709-LVOEQ  Female              0     Yes        Yes       0   \n",
              "1040  1371-DWPAZ  Female              0     Yes        Yes       0   \n",
              "2831  7644-OMVMY    Male              0     Yes        Yes       0   \n",
              "3215  3213-VVOLG    Male              0     Yes        Yes       0   \n",
              "3669  2520-SGTTA  Female              0     Yes        Yes       0   \n",
              "4507  2923-ARZLG    Male              0     Yes        Yes       0   \n",
              "5859  4075-WKNIU  Female              0     Yes        Yes       0   \n",
              "5943  2775-SEFEE    Male              0      No        Yes       0   \n",
              "\n",
              "     PhoneService     MultipleLines InternetService       OnlineSecurity  ...  \\\n",
              "288            No  No phone service             DSL                  Yes  ...   \n",
              "553           Yes                No              No  No internet service  ...   \n",
              "736           Yes                No             DSL                  Yes  ...   \n",
              "1040           No  No phone service             DSL                  Yes  ...   \n",
              "2831          Yes                No              No  No internet service  ...   \n",
              "3215          Yes               Yes              No  No internet service  ...   \n",
              "3669          Yes                No              No  No internet service  ...   \n",
              "4507          Yes                No              No  No internet service  ...   \n",
              "5859          Yes               Yes             DSL                   No  ...   \n",
              "5943          Yes               Yes             DSL                  Yes  ...   \n",
              "\n",
              "         DeviceProtection          TechSupport          StreamingTV  \\\n",
              "288                   Yes                  Yes                  Yes   \n",
              "553   No internet service  No internet service  No internet service   \n",
              "736                   Yes                   No                  Yes   \n",
              "1040                  Yes                  Yes                  Yes   \n",
              "2831  No internet service  No internet service  No internet service   \n",
              "3215  No internet service  No internet service  No internet service   \n",
              "3669  No internet service  No internet service  No internet service   \n",
              "4507  No internet service  No internet service  No internet service   \n",
              "5859                  Yes                  Yes                  Yes   \n",
              "5943                   No                  Yes                   No   \n",
              "\n",
              "          StreamingMovies  Contract PaperlessBilling  \\\n",
              "288                    No  Two year              Yes   \n",
              "553   No internet service  Two year               No   \n",
              "736                   Yes  Two year               No   \n",
              "1040                   No  Two year               No   \n",
              "2831  No internet service  Two year               No   \n",
              "3215  No internet service  Two year               No   \n",
              "3669  No internet service  Two year               No   \n",
              "4507  No internet service  One year              Yes   \n",
              "5859                   No  Two year               No   \n",
              "5943                   No  Two year              Yes   \n",
              "\n",
              "                  PaymentMethod MonthlyCharges  TotalCharges Churn  \n",
              "288   Bank transfer (automatic)          52.55                  No  \n",
              "553                Mailed check          20.25                  No  \n",
              "736                Mailed check          80.85                  No  \n",
              "1040    Credit card (automatic)          56.05                  No  \n",
              "2831               Mailed check          19.85                  No  \n",
              "3215               Mailed check          25.35                  No  \n",
              "3669               Mailed check          20.00                  No  \n",
              "4507               Mailed check          19.70                  No  \n",
              "5859               Mailed check          73.35                  No  \n",
              "5943  Bank transfer (automatic)          61.90                  No  \n",
              "\n",
              "[10 rows x 21 columns]"
            ],
            "text/html": [
              "\n",
              "  <div id=\"df-72e03d4c-8431-49e6-9620-9e33fc3b01f7\">\n",
              "    <div class=\"colab-df-container\">\n",
              "      <div>\n",
              "<style scoped>\n",
              "    .dataframe tbody tr th:only-of-type {\n",
              "        vertical-align: middle;\n",
              "    }\n",
              "\n",
              "    .dataframe tbody tr th {\n",
              "        vertical-align: top;\n",
              "    }\n",
              "\n",
              "    .dataframe thead th {\n",
              "        text-align: right;\n",
              "    }\n",
              "</style>\n",
              "<table border=\"1\" class=\"dataframe\">\n",
              "  <thead>\n",
              "    <tr style=\"text-align: right;\">\n",
              "      <th></th>\n",
              "      <th>customerID</th>\n",
              "      <th>gender</th>\n",
              "      <th>SeniorCitizen</th>\n",
              "      <th>Partner</th>\n",
              "      <th>Dependents</th>\n",
              "      <th>tenure</th>\n",
              "      <th>PhoneService</th>\n",
              "      <th>MultipleLines</th>\n",
              "      <th>InternetService</th>\n",
              "      <th>OnlineSecurity</th>\n",
              "      <th>...</th>\n",
              "      <th>DeviceProtection</th>\n",
              "      <th>TechSupport</th>\n",
              "      <th>StreamingTV</th>\n",
              "      <th>StreamingMovies</th>\n",
              "      <th>Contract</th>\n",
              "      <th>PaperlessBilling</th>\n",
              "      <th>PaymentMethod</th>\n",
              "      <th>MonthlyCharges</th>\n",
              "      <th>TotalCharges</th>\n",
              "      <th>Churn</th>\n",
              "    </tr>\n",
              "  </thead>\n",
              "  <tbody>\n",
              "    <tr>\n",
              "      <th>288</th>\n",
              "      <td>4472-LVYGI</td>\n",
              "      <td>Female</td>\n",
              "      <td>0</td>\n",
              "      <td>Yes</td>\n",
              "      <td>Yes</td>\n",
              "      <td>0</td>\n",
              "      <td>No</td>\n",
              "      <td>No phone service</td>\n",
              "      <td>DSL</td>\n",
              "      <td>Yes</td>\n",
              "      <td>...</td>\n",
              "      <td>Yes</td>\n",
              "      <td>Yes</td>\n",
              "      <td>Yes</td>\n",
              "      <td>No</td>\n",
              "      <td>Two year</td>\n",
              "      <td>Yes</td>\n",
              "      <td>Bank transfer (automatic)</td>\n",
              "      <td>52.55</td>\n",
              "      <td></td>\n",
              "      <td>No</td>\n",
              "    </tr>\n",
              "    <tr>\n",
              "      <th>553</th>\n",
              "      <td>3115-CZMZD</td>\n",
              "      <td>Male</td>\n",
              "      <td>0</td>\n",
              "      <td>No</td>\n",
              "      <td>Yes</td>\n",
              "      <td>0</td>\n",
              "      <td>Yes</td>\n",
              "      <td>No</td>\n",
              "      <td>No</td>\n",
              "      <td>No internet service</td>\n",
              "      <td>...</td>\n",
              "      <td>No internet service</td>\n",
              "      <td>No internet service</td>\n",
              "      <td>No internet service</td>\n",
              "      <td>No internet service</td>\n",
              "      <td>Two year</td>\n",
              "      <td>No</td>\n",
              "      <td>Mailed check</td>\n",
              "      <td>20.25</td>\n",
              "      <td></td>\n",
              "      <td>No</td>\n",
              "    </tr>\n",
              "    <tr>\n",
              "      <th>736</th>\n",
              "      <td>5709-LVOEQ</td>\n",
              "      <td>Female</td>\n",
              "      <td>0</td>\n",
              "      <td>Yes</td>\n",
              "      <td>Yes</td>\n",
              "      <td>0</td>\n",
              "      <td>Yes</td>\n",
              "      <td>No</td>\n",
              "      <td>DSL</td>\n",
              "      <td>Yes</td>\n",
              "      <td>...</td>\n",
              "      <td>Yes</td>\n",
              "      <td>No</td>\n",
              "      <td>Yes</td>\n",
              "      <td>Yes</td>\n",
              "      <td>Two year</td>\n",
              "      <td>No</td>\n",
              "      <td>Mailed check</td>\n",
              "      <td>80.85</td>\n",
              "      <td></td>\n",
              "      <td>No</td>\n",
              "    </tr>\n",
              "    <tr>\n",
              "      <th>1040</th>\n",
              "      <td>1371-DWPAZ</td>\n",
              "      <td>Female</td>\n",
              "      <td>0</td>\n",
              "      <td>Yes</td>\n",
              "      <td>Yes</td>\n",
              "      <td>0</td>\n",
              "      <td>No</td>\n",
              "      <td>No phone service</td>\n",
              "      <td>DSL</td>\n",
              "      <td>Yes</td>\n",
              "      <td>...</td>\n",
              "      <td>Yes</td>\n",
              "      <td>Yes</td>\n",
              "      <td>Yes</td>\n",
              "      <td>No</td>\n",
              "      <td>Two year</td>\n",
              "      <td>No</td>\n",
              "      <td>Credit card (automatic)</td>\n",
              "      <td>56.05</td>\n",
              "      <td></td>\n",
              "      <td>No</td>\n",
              "    </tr>\n",
              "    <tr>\n",
              "      <th>2831</th>\n",
              "      <td>7644-OMVMY</td>\n",
              "      <td>Male</td>\n",
              "      <td>0</td>\n",
              "      <td>Yes</td>\n",
              "      <td>Yes</td>\n",
              "      <td>0</td>\n",
              "      <td>Yes</td>\n",
              "      <td>No</td>\n",
              "      <td>No</td>\n",
              "      <td>No internet service</td>\n",
              "      <td>...</td>\n",
              "      <td>No internet service</td>\n",
              "      <td>No internet service</td>\n",
              "      <td>No internet service</td>\n",
              "      <td>No internet service</td>\n",
              "      <td>Two year</td>\n",
              "      <td>No</td>\n",
              "      <td>Mailed check</td>\n",
              "      <td>19.85</td>\n",
              "      <td></td>\n",
              "      <td>No</td>\n",
              "    </tr>\n",
              "    <tr>\n",
              "      <th>3215</th>\n",
              "      <td>3213-VVOLG</td>\n",
              "      <td>Male</td>\n",
              "      <td>0</td>\n",
              "      <td>Yes</td>\n",
              "      <td>Yes</td>\n",
              "      <td>0</td>\n",
              "      <td>Yes</td>\n",
              "      <td>Yes</td>\n",
              "      <td>No</td>\n",
              "      <td>No internet service</td>\n",
              "      <td>...</td>\n",
              "      <td>No internet service</td>\n",
              "      <td>No internet service</td>\n",
              "      <td>No internet service</td>\n",
              "      <td>No internet service</td>\n",
              "      <td>Two year</td>\n",
              "      <td>No</td>\n",
              "      <td>Mailed check</td>\n",
              "      <td>25.35</td>\n",
              "      <td></td>\n",
              "      <td>No</td>\n",
              "    </tr>\n",
              "    <tr>\n",
              "      <th>3669</th>\n",
              "      <td>2520-SGTTA</td>\n",
              "      <td>Female</td>\n",
              "      <td>0</td>\n",
              "      <td>Yes</td>\n",
              "      <td>Yes</td>\n",
              "      <td>0</td>\n",
              "      <td>Yes</td>\n",
              "      <td>No</td>\n",
              "      <td>No</td>\n",
              "      <td>No internet service</td>\n",
              "      <td>...</td>\n",
              "      <td>No internet service</td>\n",
              "      <td>No internet service</td>\n",
              "      <td>No internet service</td>\n",
              "      <td>No internet service</td>\n",
              "      <td>Two year</td>\n",
              "      <td>No</td>\n",
              "      <td>Mailed check</td>\n",
              "      <td>20.00</td>\n",
              "      <td></td>\n",
              "      <td>No</td>\n",
              "    </tr>\n",
              "    <tr>\n",
              "      <th>4507</th>\n",
              "      <td>2923-ARZLG</td>\n",
              "      <td>Male</td>\n",
              "      <td>0</td>\n",
              "      <td>Yes</td>\n",
              "      <td>Yes</td>\n",
              "      <td>0</td>\n",
              "      <td>Yes</td>\n",
              "      <td>No</td>\n",
              "      <td>No</td>\n",
              "      <td>No internet service</td>\n",
              "      <td>...</td>\n",
              "      <td>No internet service</td>\n",
              "      <td>No internet service</td>\n",
              "      <td>No internet service</td>\n",
              "      <td>No internet service</td>\n",
              "      <td>One year</td>\n",
              "      <td>Yes</td>\n",
              "      <td>Mailed check</td>\n",
              "      <td>19.70</td>\n",
              "      <td></td>\n",
              "      <td>No</td>\n",
              "    </tr>\n",
              "    <tr>\n",
              "      <th>5859</th>\n",
              "      <td>4075-WKNIU</td>\n",
              "      <td>Female</td>\n",
              "      <td>0</td>\n",
              "      <td>Yes</td>\n",
              "      <td>Yes</td>\n",
              "      <td>0</td>\n",
              "      <td>Yes</td>\n",
              "      <td>Yes</td>\n",
              "      <td>DSL</td>\n",
              "      <td>No</td>\n",
              "      <td>...</td>\n",
              "      <td>Yes</td>\n",
              "      <td>Yes</td>\n",
              "      <td>Yes</td>\n",
              "      <td>No</td>\n",
              "      <td>Two year</td>\n",
              "      <td>No</td>\n",
              "      <td>Mailed check</td>\n",
              "      <td>73.35</td>\n",
              "      <td></td>\n",
              "      <td>No</td>\n",
              "    </tr>\n",
              "    <tr>\n",
              "      <th>5943</th>\n",
              "      <td>2775-SEFEE</td>\n",
              "      <td>Male</td>\n",
              "      <td>0</td>\n",
              "      <td>No</td>\n",
              "      <td>Yes</td>\n",
              "      <td>0</td>\n",
              "      <td>Yes</td>\n",
              "      <td>Yes</td>\n",
              "      <td>DSL</td>\n",
              "      <td>Yes</td>\n",
              "      <td>...</td>\n",
              "      <td>No</td>\n",
              "      <td>Yes</td>\n",
              "      <td>No</td>\n",
              "      <td>No</td>\n",
              "      <td>Two year</td>\n",
              "      <td>Yes</td>\n",
              "      <td>Bank transfer (automatic)</td>\n",
              "      <td>61.90</td>\n",
              "      <td></td>\n",
              "      <td>No</td>\n",
              "    </tr>\n",
              "  </tbody>\n",
              "</table>\n",
              "<p>10 rows × 21 columns</p>\n",
              "</div>\n",
              "      <button class=\"colab-df-convert\" onclick=\"convertToInteractive('df-72e03d4c-8431-49e6-9620-9e33fc3b01f7')\"\n",
              "              title=\"Convert this dataframe to an interactive table.\"\n",
              "              style=\"display:none;\">\n",
              "        \n",
              "  <svg xmlns=\"http://www.w3.org/2000/svg\" height=\"24px\"viewBox=\"0 0 24 24\"\n",
              "       width=\"24px\">\n",
              "    <path d=\"M0 0h24v24H0V0z\" fill=\"none\"/>\n",
              "    <path d=\"M18.56 5.44l.94 2.06.94-2.06 2.06-.94-2.06-.94-.94-2.06-.94 2.06-2.06.94zm-11 1L8.5 8.5l.94-2.06 2.06-.94-2.06-.94L8.5 2.5l-.94 2.06-2.06.94zm10 10l.94 2.06.94-2.06 2.06-.94-2.06-.94-.94-2.06-.94 2.06-2.06.94z\"/><path d=\"M17.41 7.96l-1.37-1.37c-.4-.4-.92-.59-1.43-.59-.52 0-1.04.2-1.43.59L10.3 9.45l-7.72 7.72c-.78.78-.78 2.05 0 2.83L4 21.41c.39.39.9.59 1.41.59.51 0 1.02-.2 1.41-.59l7.78-7.78 2.81-2.81c.8-.78.8-2.07 0-2.86zM5.41 20L4 18.59l7.72-7.72 1.47 1.35L5.41 20z\"/>\n",
              "  </svg>\n",
              "      </button>\n",
              "      \n",
              "  <style>\n",
              "    .colab-df-container {\n",
              "      display:flex;\n",
              "      flex-wrap:wrap;\n",
              "      gap: 12px;\n",
              "    }\n",
              "\n",
              "    .colab-df-convert {\n",
              "      background-color: #E8F0FE;\n",
              "      border: none;\n",
              "      border-radius: 50%;\n",
              "      cursor: pointer;\n",
              "      display: none;\n",
              "      fill: #1967D2;\n",
              "      height: 32px;\n",
              "      padding: 0 0 0 0;\n",
              "      width: 32px;\n",
              "    }\n",
              "\n",
              "    .colab-df-convert:hover {\n",
              "      background-color: #E2EBFA;\n",
              "      box-shadow: 0px 1px 2px rgba(60, 64, 67, 0.3), 0px 1px 3px 1px rgba(60, 64, 67, 0.15);\n",
              "      fill: #174EA6;\n",
              "    }\n",
              "\n",
              "    [theme=dark] .colab-df-convert {\n",
              "      background-color: #3B4455;\n",
              "      fill: #D2E3FC;\n",
              "    }\n",
              "\n",
              "    [theme=dark] .colab-df-convert:hover {\n",
              "      background-color: #434B5C;\n",
              "      box-shadow: 0px 1px 3px 1px rgba(0, 0, 0, 0.15);\n",
              "      filter: drop-shadow(0px 1px 2px rgba(0, 0, 0, 0.3));\n",
              "      fill: #FFFFFF;\n",
              "    }\n",
              "  </style>\n",
              "\n",
              "      <script>\n",
              "        const buttonEl =\n",
              "          document.querySelector('#df-72e03d4c-8431-49e6-9620-9e33fc3b01f7 button.colab-df-convert');\n",
              "        buttonEl.style.display =\n",
              "          google.colab.kernel.accessAllowed ? 'block' : 'none';\n",
              "\n",
              "        async function convertToInteractive(key) {\n",
              "          const element = document.querySelector('#df-72e03d4c-8431-49e6-9620-9e33fc3b01f7');\n",
              "          const dataTable =\n",
              "            await google.colab.kernel.invokeFunction('convertToInteractive',\n",
              "                                                     [key], {});\n",
              "          if (!dataTable) return;\n",
              "\n",
              "          const docLinkHtml = 'Like what you see? Visit the ' +\n",
              "            '<a target=\"_blank\" href=https://colab.research.google.com/notebooks/data_table.ipynb>data table notebook</a>'\n",
              "            + ' to learn more about interactive tables.';\n",
              "          element.innerHTML = '';\n",
              "          dataTable['output_type'] = 'display_data';\n",
              "          await google.colab.output.renderOutput(dataTable, element);\n",
              "          const docLink = document.createElement('div');\n",
              "          docLink.innerHTML = docLinkHtml;\n",
              "          element.appendChild(docLink);\n",
              "        }\n",
              "      </script>\n",
              "    </div>\n",
              "  </div>\n",
              "  "
            ]
          },
          "metadata": {},
          "execution_count": 321
        }
      ]
    },
    {
      "cell_type": "code",
      "source": [
        "#Ver clientes con más de 56 años con el servicio:\n",
        "data[ data['tenure'] >= 56 ]"
      ],
      "metadata": {
        "colab": {
          "base_uri": "https://localhost:8080/",
          "height": 661
        },
        "id": "GW6f3rHUKRw4",
        "outputId": "03a15df3-1f27-441e-931c-08b8f3564b9c"
      },
      "execution_count": 322,
      "outputs": [
        {
          "output_type": "execute_result",
          "data": {
            "text/plain": [
              "      customerID  gender  SeniorCitizen Partner Dependents  tenure  \\\n",
              "3     5386-THSLQ  Female              1     Yes         No      66   \n",
              "4     3192-NQECA    Male              0     Yes         No      68   \n",
              "6     6728-DKUCO  Female              0     Yes        Yes      72   \n",
              "9     2848-YXSMW    Male              0     Yes        Yes      72   \n",
              "14    5256-SKJGO  Female              0     Yes        Yes      64   \n",
              "...          ...     ...            ...     ...        ...     ...   \n",
              "5979  8441-SHIPE  Female              0      No         No      67   \n",
              "5981  4597-ELFTS    Male              0      No         No      56   \n",
              "5982  1320-GVNHT    Male              0     Yes        Yes      72   \n",
              "5988  8071-SBTRN  Female              0      No         No      70   \n",
              "5994  4323-OHFOW  Female              1     Yes         No      70   \n",
              "\n",
              "     PhoneService     MultipleLines InternetService       OnlineSecurity  ...  \\\n",
              "3              No  No phone service             DSL                   No  ...   \n",
              "4             Yes               Yes     Fiber optic                   No  ...   \n",
              "6             Yes               Yes     Fiber optic                  Yes  ...   \n",
              "9             Yes                No              No  No internet service  ...   \n",
              "14             No  No phone service             DSL                   No  ...   \n",
              "...           ...               ...             ...                  ...  ...   \n",
              "5979          Yes               Yes              No  No internet service  ...   \n",
              "5981          Yes               Yes              No  No internet service  ...   \n",
              "5982          Yes               Yes     Fiber optic                  Yes  ...   \n",
              "5988          Yes               Yes     Fiber optic                  Yes  ...   \n",
              "5994          Yes               Yes     Fiber optic                   No  ...   \n",
              "\n",
              "         DeviceProtection          TechSupport          StreamingTV  \\\n",
              "3                     Yes                   No                  Yes   \n",
              "4                     Yes                  Yes                  Yes   \n",
              "6                      No                   No                  Yes   \n",
              "9     No internet service  No internet service  No internet service   \n",
              "14                     No                  Yes                  Yes   \n",
              "...                   ...                  ...                  ...   \n",
              "5979  No internet service  No internet service  No internet service   \n",
              "5981  No internet service  No internet service  No internet service   \n",
              "5982                  Yes                   No                  Yes   \n",
              "5988                  Yes                   No                  Yes   \n",
              "5994                   No                  Yes                  Yes   \n",
              "\n",
              "          StreamingMovies  Contract PaperlessBilling  \\\n",
              "3                      No  One year               No   \n",
              "4                     Yes  Two year              Yes   \n",
              "6                     Yes  One year              Yes   \n",
              "9     No internet service  Two year               No   \n",
              "14                    Yes  Two year              Yes   \n",
              "...                   ...       ...              ...   \n",
              "5979  No internet service  Two year              Yes   \n",
              "5981  No internet service  One year               No   \n",
              "5982                  Yes  Two year              Yes   \n",
              "5988                  Yes  Two year              Yes   \n",
              "5994                  Yes  One year              Yes   \n",
              "\n",
              "                  PaymentMethod MonthlyCharges  TotalCharges Churn  \n",
              "3     Bank transfer (automatic)          45.55       3027.25    No  \n",
              "4     Bank transfer (automatic)         110.00       7611.85   Yes  \n",
              "6              Electronic check         104.15       7303.05    No  \n",
              "9       Credit card (automatic)          19.40       1363.25    No  \n",
              "14             Electronic check          54.60        3423.5    No  \n",
              "...                         ...            ...           ...   ...  \n",
              "5979  Bank transfer (automatic)          25.60       1790.35    No  \n",
              "5981           Electronic check          24.90          1334   Yes  \n",
              "5982    Credit card (automatic)         108.40       7767.25    No  \n",
              "5988               Mailed check         111.15       7737.55    No  \n",
              "5994  Bank transfer (automatic)         105.55       7195.35    No  \n",
              "\n",
              "[1502 rows x 21 columns]"
            ],
            "text/html": [
              "\n",
              "  <div id=\"df-2f184f81-8062-4350-86b4-c40e3d356557\">\n",
              "    <div class=\"colab-df-container\">\n",
              "      <div>\n",
              "<style scoped>\n",
              "    .dataframe tbody tr th:only-of-type {\n",
              "        vertical-align: middle;\n",
              "    }\n",
              "\n",
              "    .dataframe tbody tr th {\n",
              "        vertical-align: top;\n",
              "    }\n",
              "\n",
              "    .dataframe thead th {\n",
              "        text-align: right;\n",
              "    }\n",
              "</style>\n",
              "<table border=\"1\" class=\"dataframe\">\n",
              "  <thead>\n",
              "    <tr style=\"text-align: right;\">\n",
              "      <th></th>\n",
              "      <th>customerID</th>\n",
              "      <th>gender</th>\n",
              "      <th>SeniorCitizen</th>\n",
              "      <th>Partner</th>\n",
              "      <th>Dependents</th>\n",
              "      <th>tenure</th>\n",
              "      <th>PhoneService</th>\n",
              "      <th>MultipleLines</th>\n",
              "      <th>InternetService</th>\n",
              "      <th>OnlineSecurity</th>\n",
              "      <th>...</th>\n",
              "      <th>DeviceProtection</th>\n",
              "      <th>TechSupport</th>\n",
              "      <th>StreamingTV</th>\n",
              "      <th>StreamingMovies</th>\n",
              "      <th>Contract</th>\n",
              "      <th>PaperlessBilling</th>\n",
              "      <th>PaymentMethod</th>\n",
              "      <th>MonthlyCharges</th>\n",
              "      <th>TotalCharges</th>\n",
              "      <th>Churn</th>\n",
              "    </tr>\n",
              "  </thead>\n",
              "  <tbody>\n",
              "    <tr>\n",
              "      <th>3</th>\n",
              "      <td>5386-THSLQ</td>\n",
              "      <td>Female</td>\n",
              "      <td>1</td>\n",
              "      <td>Yes</td>\n",
              "      <td>No</td>\n",
              "      <td>66</td>\n",
              "      <td>No</td>\n",
              "      <td>No phone service</td>\n",
              "      <td>DSL</td>\n",
              "      <td>No</td>\n",
              "      <td>...</td>\n",
              "      <td>Yes</td>\n",
              "      <td>No</td>\n",
              "      <td>Yes</td>\n",
              "      <td>No</td>\n",
              "      <td>One year</td>\n",
              "      <td>No</td>\n",
              "      <td>Bank transfer (automatic)</td>\n",
              "      <td>45.55</td>\n",
              "      <td>3027.25</td>\n",
              "      <td>No</td>\n",
              "    </tr>\n",
              "    <tr>\n",
              "      <th>4</th>\n",
              "      <td>3192-NQECA</td>\n",
              "      <td>Male</td>\n",
              "      <td>0</td>\n",
              "      <td>Yes</td>\n",
              "      <td>No</td>\n",
              "      <td>68</td>\n",
              "      <td>Yes</td>\n",
              "      <td>Yes</td>\n",
              "      <td>Fiber optic</td>\n",
              "      <td>No</td>\n",
              "      <td>...</td>\n",
              "      <td>Yes</td>\n",
              "      <td>Yes</td>\n",
              "      <td>Yes</td>\n",
              "      <td>Yes</td>\n",
              "      <td>Two year</td>\n",
              "      <td>Yes</td>\n",
              "      <td>Bank transfer (automatic)</td>\n",
              "      <td>110.00</td>\n",
              "      <td>7611.85</td>\n",
              "      <td>Yes</td>\n",
              "    </tr>\n",
              "    <tr>\n",
              "      <th>6</th>\n",
              "      <td>6728-DKUCO</td>\n",
              "      <td>Female</td>\n",
              "      <td>0</td>\n",
              "      <td>Yes</td>\n",
              "      <td>Yes</td>\n",
              "      <td>72</td>\n",
              "      <td>Yes</td>\n",
              "      <td>Yes</td>\n",
              "      <td>Fiber optic</td>\n",
              "      <td>Yes</td>\n",
              "      <td>...</td>\n",
              "      <td>No</td>\n",
              "      <td>No</td>\n",
              "      <td>Yes</td>\n",
              "      <td>Yes</td>\n",
              "      <td>One year</td>\n",
              "      <td>Yes</td>\n",
              "      <td>Electronic check</td>\n",
              "      <td>104.15</td>\n",
              "      <td>7303.05</td>\n",
              "      <td>No</td>\n",
              "    </tr>\n",
              "    <tr>\n",
              "      <th>9</th>\n",
              "      <td>2848-YXSMW</td>\n",
              "      <td>Male</td>\n",
              "      <td>0</td>\n",
              "      <td>Yes</td>\n",
              "      <td>Yes</td>\n",
              "      <td>72</td>\n",
              "      <td>Yes</td>\n",
              "      <td>No</td>\n",
              "      <td>No</td>\n",
              "      <td>No internet service</td>\n",
              "      <td>...</td>\n",
              "      <td>No internet service</td>\n",
              "      <td>No internet service</td>\n",
              "      <td>No internet service</td>\n",
              "      <td>No internet service</td>\n",
              "      <td>Two year</td>\n",
              "      <td>No</td>\n",
              "      <td>Credit card (automatic)</td>\n",
              "      <td>19.40</td>\n",
              "      <td>1363.25</td>\n",
              "      <td>No</td>\n",
              "    </tr>\n",
              "    <tr>\n",
              "      <th>14</th>\n",
              "      <td>5256-SKJGO</td>\n",
              "      <td>Female</td>\n",
              "      <td>0</td>\n",
              "      <td>Yes</td>\n",
              "      <td>Yes</td>\n",
              "      <td>64</td>\n",
              "      <td>No</td>\n",
              "      <td>No phone service</td>\n",
              "      <td>DSL</td>\n",
              "      <td>No</td>\n",
              "      <td>...</td>\n",
              "      <td>No</td>\n",
              "      <td>Yes</td>\n",
              "      <td>Yes</td>\n",
              "      <td>Yes</td>\n",
              "      <td>Two year</td>\n",
              "      <td>Yes</td>\n",
              "      <td>Electronic check</td>\n",
              "      <td>54.60</td>\n",
              "      <td>3423.5</td>\n",
              "      <td>No</td>\n",
              "    </tr>\n",
              "    <tr>\n",
              "      <th>...</th>\n",
              "      <td>...</td>\n",
              "      <td>...</td>\n",
              "      <td>...</td>\n",
              "      <td>...</td>\n",
              "      <td>...</td>\n",
              "      <td>...</td>\n",
              "      <td>...</td>\n",
              "      <td>...</td>\n",
              "      <td>...</td>\n",
              "      <td>...</td>\n",
              "      <td>...</td>\n",
              "      <td>...</td>\n",
              "      <td>...</td>\n",
              "      <td>...</td>\n",
              "      <td>...</td>\n",
              "      <td>...</td>\n",
              "      <td>...</td>\n",
              "      <td>...</td>\n",
              "      <td>...</td>\n",
              "      <td>...</td>\n",
              "      <td>...</td>\n",
              "    </tr>\n",
              "    <tr>\n",
              "      <th>5979</th>\n",
              "      <td>8441-SHIPE</td>\n",
              "      <td>Female</td>\n",
              "      <td>0</td>\n",
              "      <td>No</td>\n",
              "      <td>No</td>\n",
              "      <td>67</td>\n",
              "      <td>Yes</td>\n",
              "      <td>Yes</td>\n",
              "      <td>No</td>\n",
              "      <td>No internet service</td>\n",
              "      <td>...</td>\n",
              "      <td>No internet service</td>\n",
              "      <td>No internet service</td>\n",
              "      <td>No internet service</td>\n",
              "      <td>No internet service</td>\n",
              "      <td>Two year</td>\n",
              "      <td>Yes</td>\n",
              "      <td>Bank transfer (automatic)</td>\n",
              "      <td>25.60</td>\n",
              "      <td>1790.35</td>\n",
              "      <td>No</td>\n",
              "    </tr>\n",
              "    <tr>\n",
              "      <th>5981</th>\n",
              "      <td>4597-ELFTS</td>\n",
              "      <td>Male</td>\n",
              "      <td>0</td>\n",
              "      <td>No</td>\n",
              "      <td>No</td>\n",
              "      <td>56</td>\n",
              "      <td>Yes</td>\n",
              "      <td>Yes</td>\n",
              "      <td>No</td>\n",
              "      <td>No internet service</td>\n",
              "      <td>...</td>\n",
              "      <td>No internet service</td>\n",
              "      <td>No internet service</td>\n",
              "      <td>No internet service</td>\n",
              "      <td>No internet service</td>\n",
              "      <td>One year</td>\n",
              "      <td>No</td>\n",
              "      <td>Electronic check</td>\n",
              "      <td>24.90</td>\n",
              "      <td>1334</td>\n",
              "      <td>Yes</td>\n",
              "    </tr>\n",
              "    <tr>\n",
              "      <th>5982</th>\n",
              "      <td>1320-GVNHT</td>\n",
              "      <td>Male</td>\n",
              "      <td>0</td>\n",
              "      <td>Yes</td>\n",
              "      <td>Yes</td>\n",
              "      <td>72</td>\n",
              "      <td>Yes</td>\n",
              "      <td>Yes</td>\n",
              "      <td>Fiber optic</td>\n",
              "      <td>Yes</td>\n",
              "      <td>...</td>\n",
              "      <td>Yes</td>\n",
              "      <td>No</td>\n",
              "      <td>Yes</td>\n",
              "      <td>Yes</td>\n",
              "      <td>Two year</td>\n",
              "      <td>Yes</td>\n",
              "      <td>Credit card (automatic)</td>\n",
              "      <td>108.40</td>\n",
              "      <td>7767.25</td>\n",
              "      <td>No</td>\n",
              "    </tr>\n",
              "    <tr>\n",
              "      <th>5988</th>\n",
              "      <td>8071-SBTRN</td>\n",
              "      <td>Female</td>\n",
              "      <td>0</td>\n",
              "      <td>No</td>\n",
              "      <td>No</td>\n",
              "      <td>70</td>\n",
              "      <td>Yes</td>\n",
              "      <td>Yes</td>\n",
              "      <td>Fiber optic</td>\n",
              "      <td>Yes</td>\n",
              "      <td>...</td>\n",
              "      <td>Yes</td>\n",
              "      <td>No</td>\n",
              "      <td>Yes</td>\n",
              "      <td>Yes</td>\n",
              "      <td>Two year</td>\n",
              "      <td>Yes</td>\n",
              "      <td>Mailed check</td>\n",
              "      <td>111.15</td>\n",
              "      <td>7737.55</td>\n",
              "      <td>No</td>\n",
              "    </tr>\n",
              "    <tr>\n",
              "      <th>5994</th>\n",
              "      <td>4323-OHFOW</td>\n",
              "      <td>Female</td>\n",
              "      <td>1</td>\n",
              "      <td>Yes</td>\n",
              "      <td>No</td>\n",
              "      <td>70</td>\n",
              "      <td>Yes</td>\n",
              "      <td>Yes</td>\n",
              "      <td>Fiber optic</td>\n",
              "      <td>No</td>\n",
              "      <td>...</td>\n",
              "      <td>No</td>\n",
              "      <td>Yes</td>\n",
              "      <td>Yes</td>\n",
              "      <td>Yes</td>\n",
              "      <td>One year</td>\n",
              "      <td>Yes</td>\n",
              "      <td>Bank transfer (automatic)</td>\n",
              "      <td>105.55</td>\n",
              "      <td>7195.35</td>\n",
              "      <td>No</td>\n",
              "    </tr>\n",
              "  </tbody>\n",
              "</table>\n",
              "<p>1502 rows × 21 columns</p>\n",
              "</div>\n",
              "      <button class=\"colab-df-convert\" onclick=\"convertToInteractive('df-2f184f81-8062-4350-86b4-c40e3d356557')\"\n",
              "              title=\"Convert this dataframe to an interactive table.\"\n",
              "              style=\"display:none;\">\n",
              "        \n",
              "  <svg xmlns=\"http://www.w3.org/2000/svg\" height=\"24px\"viewBox=\"0 0 24 24\"\n",
              "       width=\"24px\">\n",
              "    <path d=\"M0 0h24v24H0V0z\" fill=\"none\"/>\n",
              "    <path d=\"M18.56 5.44l.94 2.06.94-2.06 2.06-.94-2.06-.94-.94-2.06-.94 2.06-2.06.94zm-11 1L8.5 8.5l.94-2.06 2.06-.94-2.06-.94L8.5 2.5l-.94 2.06-2.06.94zm10 10l.94 2.06.94-2.06 2.06-.94-2.06-.94-.94-2.06-.94 2.06-2.06.94z\"/><path d=\"M17.41 7.96l-1.37-1.37c-.4-.4-.92-.59-1.43-.59-.52 0-1.04.2-1.43.59L10.3 9.45l-7.72 7.72c-.78.78-.78 2.05 0 2.83L4 21.41c.39.39.9.59 1.41.59.51 0 1.02-.2 1.41-.59l7.78-7.78 2.81-2.81c.8-.78.8-2.07 0-2.86zM5.41 20L4 18.59l7.72-7.72 1.47 1.35L5.41 20z\"/>\n",
              "  </svg>\n",
              "      </button>\n",
              "      \n",
              "  <style>\n",
              "    .colab-df-container {\n",
              "      display:flex;\n",
              "      flex-wrap:wrap;\n",
              "      gap: 12px;\n",
              "    }\n",
              "\n",
              "    .colab-df-convert {\n",
              "      background-color: #E8F0FE;\n",
              "      border: none;\n",
              "      border-radius: 50%;\n",
              "      cursor: pointer;\n",
              "      display: none;\n",
              "      fill: #1967D2;\n",
              "      height: 32px;\n",
              "      padding: 0 0 0 0;\n",
              "      width: 32px;\n",
              "    }\n",
              "\n",
              "    .colab-df-convert:hover {\n",
              "      background-color: #E2EBFA;\n",
              "      box-shadow: 0px 1px 2px rgba(60, 64, 67, 0.3), 0px 1px 3px 1px rgba(60, 64, 67, 0.15);\n",
              "      fill: #174EA6;\n",
              "    }\n",
              "\n",
              "    [theme=dark] .colab-df-convert {\n",
              "      background-color: #3B4455;\n",
              "      fill: #D2E3FC;\n",
              "    }\n",
              "\n",
              "    [theme=dark] .colab-df-convert:hover {\n",
              "      background-color: #434B5C;\n",
              "      box-shadow: 0px 1px 3px 1px rgba(0, 0, 0, 0.15);\n",
              "      filter: drop-shadow(0px 1px 2px rgba(0, 0, 0, 0.3));\n",
              "      fill: #FFFFFF;\n",
              "    }\n",
              "  </style>\n",
              "\n",
              "      <script>\n",
              "        const buttonEl =\n",
              "          document.querySelector('#df-2f184f81-8062-4350-86b4-c40e3d356557 button.colab-df-convert');\n",
              "        buttonEl.style.display =\n",
              "          google.colab.kernel.accessAllowed ? 'block' : 'none';\n",
              "\n",
              "        async function convertToInteractive(key) {\n",
              "          const element = document.querySelector('#df-2f184f81-8062-4350-86b4-c40e3d356557');\n",
              "          const dataTable =\n",
              "            await google.colab.kernel.invokeFunction('convertToInteractive',\n",
              "                                                     [key], {});\n",
              "          if (!dataTable) return;\n",
              "\n",
              "          const docLinkHtml = 'Like what you see? Visit the ' +\n",
              "            '<a target=\"_blank\" href=https://colab.research.google.com/notebooks/data_table.ipynb>data table notebook</a>'\n",
              "            + ' to learn more about interactive tables.';\n",
              "          element.innerHTML = '';\n",
              "          dataTable['output_type'] = 'display_data';\n",
              "          await google.colab.output.renderOutput(dataTable, element);\n",
              "          const docLink = document.createElement('div');\n",
              "          docLink.innerHTML = docLinkHtml;\n",
              "          element.appendChild(docLink);\n",
              "        }\n",
              "      </script>\n",
              "    </div>\n",
              "  </div>\n",
              "  "
            ]
          },
          "metadata": {},
          "execution_count": 322
        }
      ]
    },
    {
      "cell_type": "markdown",
      "source": [
        "No se identifican problemas de calidad relacionados con categoría columna \"tenure\". Se asumen que los clientes en 0 meses, que corresponden a 10 casos son clientes nuevos en la compañia."
      ],
      "metadata": {
        "id": "cLi1Kny9Lh2-"
      }
    },
    {
      "cell_type": "markdown",
      "source": [
        "###MonthlyCharges"
      ],
      "metadata": {
        "id": "hNKcPisQx8TG"
      }
    },
    {
      "cell_type": "code",
      "source": [
        "sns.boxplot(x=data[\"MonthlyCharges\"])"
      ],
      "metadata": {
        "colab": {
          "base_uri": "https://localhost:8080/",
          "height": 296
        },
        "id": "pHLxH2FuJ953",
        "outputId": "6fb99511-539f-4700-8193-0aaa4c0da432"
      },
      "execution_count": 323,
      "outputs": [
        {
          "output_type": "execute_result",
          "data": {
            "text/plain": [
              "<matplotlib.axes._subplots.AxesSubplot at 0x7f47fbc7b760>"
            ]
          },
          "metadata": {},
          "execution_count": 323
        },
        {
          "output_type": "display_data",
          "data": {
            "text/plain": [
              "<Figure size 432x288 with 1 Axes>"
            ],
            "image/png": "[encoded data removed]"
          },
          "metadata": {
            "needs_background": "light"
          }
        }
      ]
    },
    {
      "cell_type": "code",
      "source": [
        "data['MonthlyCharges'].hist(bins = 100)"
      ],
      "metadata": {
        "colab": {
          "base_uri": "https://localhost:8080/",
          "height": 286
        },
        "id": "CYxE57P8j91t",
        "outputId": "1c7c4bfe-5896-4534-95b0-7226e1ec3036"
      },
      "execution_count": 324,
      "outputs": [
        {
          "output_type": "execute_result",
          "data": {
            "text/plain": [
              "<matplotlib.axes._subplots.AxesSubplot at 0x7f47fbd351c0>"
            ]
          },
          "metadata": {},
          "execution_count": 324
        },
        {
          "output_type": "display_data",
          "data": {
            "text/plain": [
              "<Figure size 432x288 with 1 Axes>"
            ],
            "image/png": "[encoded data removed]"
          },
          "metadata": {
            "needs_background": "light"
          }
        }
      ]
    },
    {
      "cell_type": "code",
      "source": [
        "data['MonthlyCharges'].describe(percentiles = [.01, .05, .1, .15, .25, .5, .75, .95, .99])"
      ],
      "metadata": {
        "colab": {
          "base_uri": "https://localhost:8080/"
        },
        "id": "E9pfaCZnkgeQ",
        "outputId": "f87278a6-526a-4ef1-cc51-f9fd49d9587a"
      },
      "execution_count": 325,
      "outputs": [
        {
          "output_type": "execute_result",
          "data": {
            "text/plain": [
              "count    6000.000000\n",
              "mean       64.607233\n",
              "std        30.195382\n",
              "min        18.250000\n",
              "1%         19.200000\n",
              "5%         19.650000\n",
              "10%        20.050000\n",
              "15%        20.550000\n",
              "25%        35.000000\n",
              "50%        70.300000\n",
              "75%        89.850000\n",
              "95%       107.500000\n",
              "99%       115.050000\n",
              "max       118.750000\n",
              "Name: MonthlyCharges, dtype: float64"
            ]
          },
          "metadata": {},
          "execution_count": 325
        }
      ]
    },
    {
      "cell_type": "code",
      "source": [
        "np.log(data['MonthlyCharges']).describe(percentiles = [.01, .05, .1, .15, .25, .5, .75, .95, .99])"
      ],
      "metadata": {
        "colab": {
          "base_uri": "https://localhost:8080/"
        },
        "id": "sl2R7h42kbx_",
        "outputId": "8e445589-cd90-477b-cb61-30ebfd3d093d"
      },
      "execution_count": 326,
      "outputs": [
        {
          "output_type": "execute_result",
          "data": {
            "text/plain": [
              "count    6000.000000\n",
              "mean        4.018102\n",
              "std         0.596834\n",
              "min         2.904165\n",
              "1%          2.954910\n",
              "5%          2.978077\n",
              "10%         2.998229\n",
              "15%         3.022861\n",
              "25%         3.555348\n",
              "50%         4.252772\n",
              "75%         4.498142\n",
              "95%         4.677491\n",
              "99%         4.745367\n",
              "max         4.777020\n",
              "Name: MonthlyCharges, dtype: float64"
            ]
          },
          "metadata": {},
          "execution_count": 326
        }
      ]
    },
    {
      "cell_type": "markdown",
      "source": [
        "###TotalCharges"
      ],
      "metadata": {
        "id": "NFMB6l-3x_EV"
      }
    },
    {
      "cell_type": "markdown",
      "source": [
        "La variable TotalCharges la está identificando de tipo objeto, se hace la conversión a número:"
      ],
      "metadata": {
        "id": "Wb0LZBJ7vhMh"
      }
    },
    {
      "cell_type": "code",
      "source": [
        "data['TotalCharges'] =  pd.to_numeric(data['TotalCharges'])"
      ],
      "metadata": {
        "id": "xrZ3nV59vVhM"
      },
      "execution_count": 327,
      "outputs": []
    },
    {
      "cell_type": "code",
      "source": [
        "sns.boxplot(x=data[\"TotalCharges\"])"
      ],
      "metadata": {
        "colab": {
          "base_uri": "https://localhost:8080/",
          "height": 296
        },
        "id": "TxF6ahm5vMXu",
        "outputId": "c99f023b-a90f-4340-c989-5b98079f0459"
      },
      "execution_count": 328,
      "outputs": [
        {
          "output_type": "execute_result",
          "data": {
            "text/plain": [
              "<matplotlib.axes._subplots.AxesSubplot at 0x7f47fbcbf220>"
            ]
          },
          "metadata": {},
          "execution_count": 328
        },
        {
          "output_type": "display_data",
          "data": {
            "text/plain": [
              "<Figure size 432x288 with 1 Axes>"
            ],
            "image/png": "[encoded data removed]"
          },
          "metadata": {
            "needs_background": "light"
          }
        }
      ]
    },
    {
      "cell_type": "code",
      "source": [
        "data['TotalCharges'].describe(percentiles = [.01, .05, .1, .15, .25, .5, .75, .95, .99])"
      ],
      "metadata": {
        "colab": {
          "base_uri": "https://localhost:8080/"
        },
        "outputId": "7817ece7-da9f-4f39-d5d1-c9c36c5bd2e7",
        "id": "zPlu1JNKv3-x"
      },
      "execution_count": 329,
      "outputs": [
        {
          "output_type": "execute_result",
          "data": {
            "text/plain": [
              "count    5990.000000\n",
              "mean     2281.988155\n",
              "std      2274.401428\n",
              "min        18.800000\n",
              "1%         19.894500\n",
              "5%         48.757500\n",
              "10%        83.390000\n",
              "15%       161.467500\n",
              "25%       389.337500\n",
              "50%      1391.950000\n",
              "75%      3803.725000\n",
              "95%      6949.395000\n",
              "99%      8059.141500\n",
              "max      8684.800000\n",
              "Name: TotalCharges, dtype: float64"
            ]
          },
          "metadata": {},
          "execution_count": 329
        }
      ]
    },
    {
      "cell_type": "markdown",
      "source": [
        "En este punto se ideintifica que se tienen 10 registros nulos en esta variable.\n",
        "Y que existen valores superiores muy altos respecto a la media."
      ],
      "metadata": {
        "id": "w9uLBmFfyBIM"
      }
    },
    {
      "cell_type": "code",
      "source": [
        "#Identificar los datos nulos\n",
        "data[data['TotalCharges'].isnull()]"
      ],
      "metadata": {
        "colab": {
          "base_uri": "https://localhost:8080/",
          "height": 630
        },
        "id": "-O-jptOMyItO",
        "outputId": "628c75dd-b33d-4a95-f48a-41e386e23d1d"
      },
      "execution_count": 330,
      "outputs": [
        {
          "output_type": "execute_result",
          "data": {
            "text/plain": [
              "      customerID  gender  SeniorCitizen Partner Dependents  tenure  \\\n",
              "288   4472-LVYGI  Female              0     Yes        Yes       0   \n",
              "553   3115-CZMZD    Male              0      No        Yes       0   \n",
              "736   5709-LVOEQ  Female              0     Yes        Yes       0   \n",
              "1040  1371-DWPAZ  Female              0     Yes        Yes       0   \n",
              "2831  7644-OMVMY    Male              0     Yes        Yes       0   \n",
              "3215  3213-VVOLG    Male              0     Yes        Yes       0   \n",
              "3669  2520-SGTTA  Female              0     Yes        Yes       0   \n",
              "4507  2923-ARZLG    Male              0     Yes        Yes       0   \n",
              "5859  4075-WKNIU  Female              0     Yes        Yes       0   \n",
              "5943  2775-SEFEE    Male              0      No        Yes       0   \n",
              "\n",
              "     PhoneService     MultipleLines InternetService       OnlineSecurity  ...  \\\n",
              "288            No  No phone service             DSL                  Yes  ...   \n",
              "553           Yes                No              No  No internet service  ...   \n",
              "736           Yes                No             DSL                  Yes  ...   \n",
              "1040           No  No phone service             DSL                  Yes  ...   \n",
              "2831          Yes                No              No  No internet service  ...   \n",
              "3215          Yes               Yes              No  No internet service  ...   \n",
              "3669          Yes                No              No  No internet service  ...   \n",
              "4507          Yes                No              No  No internet service  ...   \n",
              "5859          Yes               Yes             DSL                   No  ...   \n",
              "5943          Yes               Yes             DSL                  Yes  ...   \n",
              "\n",
              "         DeviceProtection          TechSupport          StreamingTV  \\\n",
              "288                   Yes                  Yes                  Yes   \n",
              "553   No internet service  No internet service  No internet service   \n",
              "736                   Yes                   No                  Yes   \n",
              "1040                  Yes                  Yes                  Yes   \n",
              "2831  No internet service  No internet service  No internet service   \n",
              "3215  No internet service  No internet service  No internet service   \n",
              "3669  No internet service  No internet service  No internet service   \n",
              "4507  No internet service  No internet service  No internet service   \n",
              "5859                  Yes                  Yes                  Yes   \n",
              "5943                   No                  Yes                   No   \n",
              "\n",
              "          StreamingMovies  Contract PaperlessBilling  \\\n",
              "288                    No  Two year              Yes   \n",
              "553   No internet service  Two year               No   \n",
              "736                   Yes  Two year               No   \n",
              "1040                   No  Two year               No   \n",
              "2831  No internet service  Two year               No   \n",
              "3215  No internet service  Two year               No   \n",
              "3669  No internet service  Two year               No   \n",
              "4507  No internet service  One year              Yes   \n",
              "5859                   No  Two year               No   \n",
              "5943                   No  Two year              Yes   \n",
              "\n",
              "                  PaymentMethod MonthlyCharges  TotalCharges  Churn  \n",
              "288   Bank transfer (automatic)          52.55           NaN     No  \n",
              "553                Mailed check          20.25           NaN     No  \n",
              "736                Mailed check          80.85           NaN     No  \n",
              "1040    Credit card (automatic)          56.05           NaN     No  \n",
              "2831               Mailed check          19.85           NaN     No  \n",
              "3215               Mailed check          25.35           NaN     No  \n",
              "3669               Mailed check          20.00           NaN     No  \n",
              "4507               Mailed check          19.70           NaN     No  \n",
              "5859               Mailed check          73.35           NaN     No  \n",
              "5943  Bank transfer (automatic)          61.90           NaN     No  \n",
              "\n",
              "[10 rows x 21 columns]"
            ],
            "text/html": [
              "\n",
              "  <div id=\"df-0fcde16a-b79c-49eb-a2c8-518617d436b6\">\n",
              "    <div class=\"colab-df-container\">\n",
              "      <div>\n",
              "<style scoped>\n",
              "    .dataframe tbody tr th:only-of-type {\n",
              "        vertical-align: middle;\n",
              "    }\n",
              "\n",
              "    .dataframe tbody tr th {\n",
              "        vertical-align: top;\n",
              "    }\n",
              "\n",
              "    .dataframe thead th {\n",
              "        text-align: right;\n",
              "    }\n",
              "</style>\n",
              "<table border=\"1\" class=\"dataframe\">\n",
              "  <thead>\n",
              "    <tr style=\"text-align: right;\">\n",
              "      <th></th>\n",
              "      <th>customerID</th>\n",
              "      <th>gender</th>\n",
              "      <th>SeniorCitizen</th>\n",
              "      <th>Partner</th>\n",
              "      <th>Dependents</th>\n",
              "      <th>tenure</th>\n",
              "      <th>PhoneService</th>\n",
              "      <th>MultipleLines</th>\n",
              "      <th>InternetService</th>\n",
              "      <th>OnlineSecurity</th>\n",
              "      <th>...</th>\n",
              "      <th>DeviceProtection</th>\n",
              "      <th>TechSupport</th>\n",
              "      <th>StreamingTV</th>\n",
              "      <th>StreamingMovies</th>\n",
              "      <th>Contract</th>\n",
              "      <th>PaperlessBilling</th>\n",
              "      <th>PaymentMethod</th>\n",
              "      <th>MonthlyCharges</th>\n",
              "      <th>TotalCharges</th>\n",
              "      <th>Churn</th>\n",
              "    </tr>\n",
              "  </thead>\n",
              "  <tbody>\n",
              "    <tr>\n",
              "      <th>288</th>\n",
              "      <td>4472-LVYGI</td>\n",
              "      <td>Female</td>\n",
              "      <td>0</td>\n",
              "      <td>Yes</td>\n",
              "      <td>Yes</td>\n",
              "      <td>0</td>\n",
              "      <td>No</td>\n",
              "      <td>No phone service</td>\n",
              "      <td>DSL</td>\n",
              "      <td>Yes</td>\n",
              "      <td>...</td>\n",
              "      <td>Yes</td>\n",
              "      <td>Yes</td>\n",
              "      <td>Yes</td>\n",
              "      <td>No</td>\n",
              "      <td>Two year</td>\n",
              "      <td>Yes</td>\n",
              "      <td>Bank transfer (automatic)</td>\n",
              "      <td>52.55</td>\n",
              "      <td>NaN</td>\n",
              "      <td>No</td>\n",
              "    </tr>\n",
              "    <tr>\n",
              "      <th>553</th>\n",
              "      <td>3115-CZMZD</td>\n",
              "      <td>Male</td>\n",
              "      <td>0</td>\n",
              "      <td>No</td>\n",
              "      <td>Yes</td>\n",
              "      <td>0</td>\n",
              "      <td>Yes</td>\n",
              "      <td>No</td>\n",
              "      <td>No</td>\n",
              "      <td>No internet service</td>\n",
              "      <td>...</td>\n",
              "      <td>No internet service</td>\n",
              "      <td>No internet service</td>\n",
              "      <td>No internet service</td>\n",
              "      <td>No internet service</td>\n",
              "      <td>Two year</td>\n",
              "      <td>No</td>\n",
              "      <td>Mailed check</td>\n",
              "      <td>20.25</td>\n",
              "      <td>NaN</td>\n",
              "      <td>No</td>\n",
              "    </tr>\n",
              "    <tr>\n",
              "      <th>736</th>\n",
              "      <td>5709-LVOEQ</td>\n",
              "      <td>Female</td>\n",
              "      <td>0</td>\n",
              "      <td>Yes</td>\n",
              "      <td>Yes</td>\n",
              "      <td>0</td>\n",
              "      <td>Yes</td>\n",
              "      <td>No</td>\n",
              "      <td>DSL</td>\n",
              "      <td>Yes</td>\n",
              "      <td>...</td>\n",
              "      <td>Yes</td>\n",
              "      <td>No</td>\n",
              "      <td>Yes</td>\n",
              "      <td>Yes</td>\n",
              "      <td>Two year</td>\n",
              "      <td>No</td>\n",
              "      <td>Mailed check</td>\n",
              "      <td>80.85</td>\n",
              "      <td>NaN</td>\n",
              "      <td>No</td>\n",
              "    </tr>\n",
              "    <tr>\n",
              "      <th>1040</th>\n",
              "      <td>1371-DWPAZ</td>\n",
              "      <td>Female</td>\n",
              "      <td>0</td>\n",
              "      <td>Yes</td>\n",
              "      <td>Yes</td>\n",
              "      <td>0</td>\n",
              "      <td>No</td>\n",
              "      <td>No phone service</td>\n",
              "      <td>DSL</td>\n",
              "      <td>Yes</td>\n",
              "      <td>...</td>\n",
              "      <td>Yes</td>\n",
              "      <td>Yes</td>\n",
              "      <td>Yes</td>\n",
              "      <td>No</td>\n",
              "      <td>Two year</td>\n",
              "      <td>No</td>\n",
              "      <td>Credit card (automatic)</td>\n",
              "      <td>56.05</td>\n",
              "      <td>NaN</td>\n",
              "      <td>No</td>\n",
              "    </tr>\n",
              "    <tr>\n",
              "      <th>2831</th>\n",
              "      <td>7644-OMVMY</td>\n",
              "      <td>Male</td>\n",
              "      <td>0</td>\n",
              "      <td>Yes</td>\n",
              "      <td>Yes</td>\n",
              "      <td>0</td>\n",
              "      <td>Yes</td>\n",
              "      <td>No</td>\n",
              "      <td>No</td>\n",
              "      <td>No internet service</td>\n",
              "      <td>...</td>\n",
              "      <td>No internet service</td>\n",
              "      <td>No internet service</td>\n",
              "      <td>No internet service</td>\n",
              "      <td>No internet service</td>\n",
              "      <td>Two year</td>\n",
              "      <td>No</td>\n",
              "      <td>Mailed check</td>\n",
              "      <td>19.85</td>\n",
              "      <td>NaN</td>\n",
              "      <td>No</td>\n",
              "    </tr>\n",
              "    <tr>\n",
              "      <th>3215</th>\n",
              "      <td>3213-VVOLG</td>\n",
              "      <td>Male</td>\n",
              "      <td>0</td>\n",
              "      <td>Yes</td>\n",
              "      <td>Yes</td>\n",
              "      <td>0</td>\n",
              "      <td>Yes</td>\n",
              "      <td>Yes</td>\n",
              "      <td>No</td>\n",
              "      <td>No internet service</td>\n",
              "      <td>...</td>\n",
              "      <td>No internet service</td>\n",
              "      <td>No internet service</td>\n",
              "      <td>No internet service</td>\n",
              "      <td>No internet service</td>\n",
              "      <td>Two year</td>\n",
              "      <td>No</td>\n",
              "      <td>Mailed check</td>\n",
              "      <td>25.35</td>\n",
              "      <td>NaN</td>\n",
              "      <td>No</td>\n",
              "    </tr>\n",
              "    <tr>\n",
              "      <th>3669</th>\n",
              "      <td>2520-SGTTA</td>\n",
              "      <td>Female</td>\n",
              "      <td>0</td>\n",
              "      <td>Yes</td>\n",
              "      <td>Yes</td>\n",
              "      <td>0</td>\n",
              "      <td>Yes</td>\n",
              "      <td>No</td>\n",
              "      <td>No</td>\n",
              "      <td>No internet service</td>\n",
              "      <td>...</td>\n",
              "      <td>No internet service</td>\n",
              "      <td>No internet service</td>\n",
              "      <td>No internet service</td>\n",
              "      <td>No internet service</td>\n",
              "      <td>Two year</td>\n",
              "      <td>No</td>\n",
              "      <td>Mailed check</td>\n",
              "      <td>20.00</td>\n",
              "      <td>NaN</td>\n",
              "      <td>No</td>\n",
              "    </tr>\n",
              "    <tr>\n",
              "      <th>4507</th>\n",
              "      <td>2923-ARZLG</td>\n",
              "      <td>Male</td>\n",
              "      <td>0</td>\n",
              "      <td>Yes</td>\n",
              "      <td>Yes</td>\n",
              "      <td>0</td>\n",
              "      <td>Yes</td>\n",
              "      <td>No</td>\n",
              "      <td>No</td>\n",
              "      <td>No internet service</td>\n",
              "      <td>...</td>\n",
              "      <td>No internet service</td>\n",
              "      <td>No internet service</td>\n",
              "      <td>No internet service</td>\n",
              "      <td>No internet service</td>\n",
              "      <td>One year</td>\n",
              "      <td>Yes</td>\n",
              "      <td>Mailed check</td>\n",
              "      <td>19.70</td>\n",
              "      <td>NaN</td>\n",
              "      <td>No</td>\n",
              "    </tr>\n",
              "    <tr>\n",
              "      <th>5859</th>\n",
              "      <td>4075-WKNIU</td>\n",
              "      <td>Female</td>\n",
              "      <td>0</td>\n",
              "      <td>Yes</td>\n",
              "      <td>Yes</td>\n",
              "      <td>0</td>\n",
              "      <td>Yes</td>\n",
              "      <td>Yes</td>\n",
              "      <td>DSL</td>\n",
              "      <td>No</td>\n",
              "      <td>...</td>\n",
              "      <td>Yes</td>\n",
              "      <td>Yes</td>\n",
              "      <td>Yes</td>\n",
              "      <td>No</td>\n",
              "      <td>Two year</td>\n",
              "      <td>No</td>\n",
              "      <td>Mailed check</td>\n",
              "      <td>73.35</td>\n",
              "      <td>NaN</td>\n",
              "      <td>No</td>\n",
              "    </tr>\n",
              "    <tr>\n",
              "      <th>5943</th>\n",
              "      <td>2775-SEFEE</td>\n",
              "      <td>Male</td>\n",
              "      <td>0</td>\n",
              "      <td>No</td>\n",
              "      <td>Yes</td>\n",
              "      <td>0</td>\n",
              "      <td>Yes</td>\n",
              "      <td>Yes</td>\n",
              "      <td>DSL</td>\n",
              "      <td>Yes</td>\n",
              "      <td>...</td>\n",
              "      <td>No</td>\n",
              "      <td>Yes</td>\n",
              "      <td>No</td>\n",
              "      <td>No</td>\n",
              "      <td>Two year</td>\n",
              "      <td>Yes</td>\n",
              "      <td>Bank transfer (automatic)</td>\n",
              "      <td>61.90</td>\n",
              "      <td>NaN</td>\n",
              "      <td>No</td>\n",
              "    </tr>\n",
              "  </tbody>\n",
              "</table>\n",
              "<p>10 rows × 21 columns</p>\n",
              "</div>\n",
              "      <button class=\"colab-df-convert\" onclick=\"convertToInteractive('df-0fcde16a-b79c-49eb-a2c8-518617d436b6')\"\n",
              "              title=\"Convert this dataframe to an interactive table.\"\n",
              "              style=\"display:none;\">\n",
              "        \n",
              "  <svg xmlns=\"http://www.w3.org/2000/svg\" height=\"24px\"viewBox=\"0 0 24 24\"\n",
              "       width=\"24px\">\n",
              "    <path d=\"M0 0h24v24H0V0z\" fill=\"none\"/>\n",
              "    <path d=\"M18.56 5.44l.94 2.06.94-2.06 2.06-.94-2.06-.94-.94-2.06-.94 2.06-2.06.94zm-11 1L8.5 8.5l.94-2.06 2.06-.94-2.06-.94L8.5 2.5l-.94 2.06-2.06.94zm10 10l.94 2.06.94-2.06 2.06-.94-2.06-.94-.94-2.06-.94 2.06-2.06.94z\"/><path d=\"M17.41 7.96l-1.37-1.37c-.4-.4-.92-.59-1.43-.59-.52 0-1.04.2-1.43.59L10.3 9.45l-7.72 7.72c-.78.78-.78 2.05 0 2.83L4 21.41c.39.39.9.59 1.41.59.51 0 1.02-.2 1.41-.59l7.78-7.78 2.81-2.81c.8-.78.8-2.07 0-2.86zM5.41 20L4 18.59l7.72-7.72 1.47 1.35L5.41 20z\"/>\n",
              "  </svg>\n",
              "      </button>\n",
              "      \n",
              "  <style>\n",
              "    .colab-df-container {\n",
              "      display:flex;\n",
              "      flex-wrap:wrap;\n",
              "      gap: 12px;\n",
              "    }\n",
              "\n",
              "    .colab-df-convert {\n",
              "      background-color: #E8F0FE;\n",
              "      border: none;\n",
              "      border-radius: 50%;\n",
              "      cursor: pointer;\n",
              "      display: none;\n",
              "      fill: #1967D2;\n",
              "      height: 32px;\n",
              "      padding: 0 0 0 0;\n",
              "      width: 32px;\n",
              "    }\n",
              "\n",
              "    .colab-df-convert:hover {\n",
              "      background-color: #E2EBFA;\n",
              "      box-shadow: 0px 1px 2px rgba(60, 64, 67, 0.3), 0px 1px 3px 1px rgba(60, 64, 67, 0.15);\n",
              "      fill: #174EA6;\n",
              "    }\n",
              "\n",
              "    [theme=dark] .colab-df-convert {\n",
              "      background-color: #3B4455;\n",
              "      fill: #D2E3FC;\n",
              "    }\n",
              "\n",
              "    [theme=dark] .colab-df-convert:hover {\n",
              "      background-color: #434B5C;\n",
              "      box-shadow: 0px 1px 3px 1px rgba(0, 0, 0, 0.15);\n",
              "      filter: drop-shadow(0px 1px 2px rgba(0, 0, 0, 0.3));\n",
              "      fill: #FFFFFF;\n",
              "    }\n",
              "  </style>\n",
              "\n",
              "      <script>\n",
              "        const buttonEl =\n",
              "          document.querySelector('#df-0fcde16a-b79c-49eb-a2c8-518617d436b6 button.colab-df-convert');\n",
              "        buttonEl.style.display =\n",
              "          google.colab.kernel.accessAllowed ? 'block' : 'none';\n",
              "\n",
              "        async function convertToInteractive(key) {\n",
              "          const element = document.querySelector('#df-0fcde16a-b79c-49eb-a2c8-518617d436b6');\n",
              "          const dataTable =\n",
              "            await google.colab.kernel.invokeFunction('convertToInteractive',\n",
              "                                                     [key], {});\n",
              "          if (!dataTable) return;\n",
              "\n",
              "          const docLinkHtml = 'Like what you see? Visit the ' +\n",
              "            '<a target=\"_blank\" href=https://colab.research.google.com/notebooks/data_table.ipynb>data table notebook</a>'\n",
              "            + ' to learn more about interactive tables.';\n",
              "          element.innerHTML = '';\n",
              "          dataTable['output_type'] = 'display_data';\n",
              "          await google.colab.output.renderOutput(dataTable, element);\n",
              "          const docLink = document.createElement('div');\n",
              "          docLink.innerHTML = docLinkHtml;\n",
              "          element.appendChild(docLink);\n",
              "        }\n",
              "      </script>\n",
              "    </div>\n",
              "  </div>\n",
              "  "
            ]
          },
          "metadata": {},
          "execution_count": 330
        }
      ]
    },
    {
      "cell_type": "code",
      "source": [
        "#Para los datos faltantes se usa la mediana para tener esos valores:\n",
        "data['TotalCharges'] = data['TotalCharges'].fillna(data['TotalCharges'].median())"
      ],
      "metadata": {
        "id": "yHJ89C8X0B5G"
      },
      "execution_count": 331,
      "outputs": []
    },
    {
      "cell_type": "code",
      "source": [
        "data['TotalCharges'].describe(percentiles = [.15, .25, .5, .75, .95, .99])"
      ],
      "metadata": {
        "colab": {
          "base_uri": "https://localhost:8080/"
        },
        "id": "vUOkTPLi0fJ3",
        "outputId": "3f9136b3-9f46-43f3-ea87-f5776a25d5fa"
      },
      "execution_count": 332,
      "outputs": [
        {
          "output_type": "execute_result",
          "data": {
            "text/plain": [
              "count    6000.000000\n",
              "mean     2280.504758\n",
              "std      2272.795023\n",
              "min        18.800000\n",
              "15%       161.627500\n",
              "25%       389.912500\n",
              "50%      1391.950000\n",
              "75%      3796.912500\n",
              "95%      6944.945000\n",
              "99%      8058.876500\n",
              "max      8684.800000\n",
              "Name: TotalCharges, dtype: float64"
            ]
          },
          "metadata": {},
          "execution_count": 332
        }
      ]
    },
    {
      "cell_type": "code",
      "source": [
        "#se revisa la distribución de los datos si se aplicase una transformación logartimica a los datos.\n",
        "np.log(data['TotalCharges']).describe(percentiles = [.15, .25, .5, .75, .95, .99])"
      ],
      "metadata": {
        "colab": {
          "base_uri": "https://localhost:8080/"
        },
        "outputId": "f8d4575a-cfe7-4ef9-c644-04944546783e",
        "id": "mLXdGFqgv3-y"
      },
      "execution_count": 333,
      "outputs": [
        {
          "output_type": "execute_result",
          "data": {
            "text/plain": [
              "count    6000.000000\n",
              "mean        6.931557\n",
              "std         1.559826\n",
              "min         2.933857\n",
              "15%         5.085294\n",
              "25%         5.965922\n",
              "50%         7.238461\n",
              "75%         8.241943\n",
              "95%         8.845769\n",
              "99%         8.994529\n",
              "max         9.069330\n",
              "Name: TotalCharges, dtype: float64"
            ]
          },
          "metadata": {},
          "execution_count": 333
        }
      ]
    },
    {
      "cell_type": "markdown",
      "source": [
        "De acuerdo a la distribución de los datos se sugiere aplicar transforamción logaritmica del la varaible TotalCharges"
      ],
      "metadata": {
        "id": "y1A1poMtwgPi"
      }
    },
    {
      "cell_type": "markdown",
      "source": [
        "## Variables categóricas:"
      ],
      "metadata": {
        "id": "ADh1fSxGMoit"
      }
    },
    {
      "cell_type": "markdown",
      "source": [
        "###customerID"
      ],
      "metadata": {
        "id": "ks1fTaht19HO"
      }
    },
    {
      "cell_type": "code",
      "source": [
        "#Confirmar que customerID es única para cada usuario y por lo tanto no se necesitará en el modelo:\n",
        "data[\"customerID\"].unique().size"
      ],
      "metadata": {
        "colab": {
          "base_uri": "https://localhost:8080/"
        },
        "id": "eByFxvGzMthc",
        "outputId": "c8b2ed54-bebb-4871-a96b-8dbb1332e7ac"
      },
      "execution_count": 334,
      "outputs": [
        {
          "output_type": "execute_result",
          "data": {
            "text/plain": [
              "6000"
            ]
          },
          "metadata": {},
          "execution_count": 334
        }
      ]
    },
    {
      "cell_type": "code",
      "source": [
        "#se hace drop de la columna:\n",
        "data = data.drop(['customerID'], axis=1)\n",
        "data.head()"
      ],
      "metadata": {
        "colab": {
          "base_uri": "https://localhost:8080/",
          "height": 340
        },
        "id": "TFuvniT8Mtme",
        "outputId": "47e916f5-422d-4f2d-a3cd-d86b2f20b012"
      },
      "execution_count": 335,
      "outputs": [
        {
          "output_type": "execute_result",
          "data": {
            "text/plain": [
              "   gender  SeniorCitizen Partner Dependents  tenure PhoneService  \\\n",
              "0  Female              0     Yes         No       1           No   \n",
              "1    Male              0      No         No      34          Yes   \n",
              "2    Male              0      No         No       2          Yes   \n",
              "3  Female              1     Yes         No      66           No   \n",
              "4    Male              0     Yes         No      68          Yes   \n",
              "\n",
              "      MultipleLines InternetService OnlineSecurity OnlineBackup  \\\n",
              "0  No phone service             DSL             No          Yes   \n",
              "1                No             DSL            Yes           No   \n",
              "2                No             DSL            Yes          Yes   \n",
              "3  No phone service             DSL             No          Yes   \n",
              "4               Yes     Fiber optic             No          Yes   \n",
              "\n",
              "  DeviceProtection TechSupport StreamingTV StreamingMovies        Contract  \\\n",
              "0               No          No          No              No  Month-to-month   \n",
              "1              Yes          No          No              No        One year   \n",
              "2               No          No          No              No  Month-to-month   \n",
              "3              Yes          No         Yes              No        One year   \n",
              "4              Yes         Yes         Yes             Yes        Two year   \n",
              "\n",
              "  PaperlessBilling              PaymentMethod  MonthlyCharges  TotalCharges  \\\n",
              "0              Yes           Electronic check           29.85         29.85   \n",
              "1               No               Mailed check           56.95       1889.50   \n",
              "2              Yes               Mailed check           53.85        108.15   \n",
              "3               No  Bank transfer (automatic)           45.55       3027.25   \n",
              "4              Yes  Bank transfer (automatic)          110.00       7611.85   \n",
              "\n",
              "  Churn  \n",
              "0    No  \n",
              "1    No  \n",
              "2   Yes  \n",
              "3    No  \n",
              "4   Yes  "
            ],
            "text/html": [
              "\n",
              "  <div id=\"df-7149a39c-f03c-4203-8db2-669114570b4d\">\n",
              "    <div class=\"colab-df-container\">\n",
              "      <div>\n",
              "<style scoped>\n",
              "    .dataframe tbody tr th:only-of-type {\n",
              "        vertical-align: middle;\n",
              "    }\n",
              "\n",
              "    .dataframe tbody tr th {\n",
              "        vertical-align: top;\n",
              "    }\n",
              "\n",
              "    .dataframe thead th {\n",
              "        text-align: right;\n",
              "    }\n",
              "</style>\n",
              "<table border=\"1\" class=\"dataframe\">\n",
              "  <thead>\n",
              "    <tr style=\"text-align: right;\">\n",
              "      <th></th>\n",
              "      <th>gender</th>\n",
              "      <th>SeniorCitizen</th>\n",
              "      <th>Partner</th>\n",
              "      <th>Dependents</th>\n",
              "      <th>tenure</th>\n",
              "      <th>PhoneService</th>\n",
              "      <th>MultipleLines</th>\n",
              "      <th>InternetService</th>\n",
              "      <th>OnlineSecurity</th>\n",
              "      <th>OnlineBackup</th>\n",
              "      <th>DeviceProtection</th>\n",
              "      <th>TechSupport</th>\n",
              "      <th>StreamingTV</th>\n",
              "      <th>StreamingMovies</th>\n",
              "      <th>Contract</th>\n",
              "      <th>PaperlessBilling</th>\n",
              "      <th>PaymentMethod</th>\n",
              "      <th>MonthlyCharges</th>\n",
              "      <th>TotalCharges</th>\n",
              "      <th>Churn</th>\n",
              "    </tr>\n",
              "  </thead>\n",
              "  <tbody>\n",
              "    <tr>\n",
              "      <th>0</th>\n",
              "      <td>Female</td>\n",
              "      <td>0</td>\n",
              "      <td>Yes</td>\n",
              "      <td>No</td>\n",
              "      <td>1</td>\n",
              "      <td>No</td>\n",
              "      <td>No phone service</td>\n",
              "      <td>DSL</td>\n",
              "      <td>No</td>\n",
              "      <td>Yes</td>\n",
              "      <td>No</td>\n",
              "      <td>No</td>\n",
              "      <td>No</td>\n",
              "      <td>No</td>\n",
              "      <td>Month-to-month</td>\n",
              "      <td>Yes</td>\n",
              "      <td>Electronic check</td>\n",
              "      <td>29.85</td>\n",
              "      <td>29.85</td>\n",
              "      <td>No</td>\n",
              "    </tr>\n",
              "    <tr>\n",
              "      <th>1</th>\n",
              "      <td>Male</td>\n",
              "      <td>0</td>\n",
              "      <td>No</td>\n",
              "      <td>No</td>\n",
              "      <td>34</td>\n",
              "      <td>Yes</td>\n",
              "      <td>No</td>\n",
              "      <td>DSL</td>\n",
              "      <td>Yes</td>\n",
              "      <td>No</td>\n",
              "      <td>Yes</td>\n",
              "      <td>No</td>\n",
              "      <td>No</td>\n",
              "      <td>No</td>\n",
              "      <td>One year</td>\n",
              "      <td>No</td>\n",
              "      <td>Mailed check</td>\n",
              "      <td>56.95</td>\n",
              "      <td>1889.50</td>\n",
              "      <td>No</td>\n",
              "    </tr>\n",
              "    <tr>\n",
              "      <th>2</th>\n",
              "      <td>Male</td>\n",
              "      <td>0</td>\n",
              "      <td>No</td>\n",
              "      <td>No</td>\n",
              "      <td>2</td>\n",
              "      <td>Yes</td>\n",
              "      <td>No</td>\n",
              "      <td>DSL</td>\n",
              "      <td>Yes</td>\n",
              "      <td>Yes</td>\n",
              "      <td>No</td>\n",
              "      <td>No</td>\n",
              "      <td>No</td>\n",
              "      <td>No</td>\n",
              "      <td>Month-to-month</td>\n",
              "      <td>Yes</td>\n",
              "      <td>Mailed check</td>\n",
              "      <td>53.85</td>\n",
              "      <td>108.15</td>\n",
              "      <td>Yes</td>\n",
              "    </tr>\n",
              "    <tr>\n",
              "      <th>3</th>\n",
              "      <td>Female</td>\n",
              "      <td>1</td>\n",
              "      <td>Yes</td>\n",
              "      <td>No</td>\n",
              "      <td>66</td>\n",
              "      <td>No</td>\n",
              "      <td>No phone service</td>\n",
              "      <td>DSL</td>\n",
              "      <td>No</td>\n",
              "      <td>Yes</td>\n",
              "      <td>Yes</td>\n",
              "      <td>No</td>\n",
              "      <td>Yes</td>\n",
              "      <td>No</td>\n",
              "      <td>One year</td>\n",
              "      <td>No</td>\n",
              "      <td>Bank transfer (automatic)</td>\n",
              "      <td>45.55</td>\n",
              "      <td>3027.25</td>\n",
              "      <td>No</td>\n",
              "    </tr>\n",
              "    <tr>\n",
              "      <th>4</th>\n",
              "      <td>Male</td>\n",
              "      <td>0</td>\n",
              "      <td>Yes</td>\n",
              "      <td>No</td>\n",
              "      <td>68</td>\n",
              "      <td>Yes</td>\n",
              "      <td>Yes</td>\n",
              "      <td>Fiber optic</td>\n",
              "      <td>No</td>\n",
              "      <td>Yes</td>\n",
              "      <td>Yes</td>\n",
              "      <td>Yes</td>\n",
              "      <td>Yes</td>\n",
              "      <td>Yes</td>\n",
              "      <td>Two year</td>\n",
              "      <td>Yes</td>\n",
              "      <td>Bank transfer (automatic)</td>\n",
              "      <td>110.00</td>\n",
              "      <td>7611.85</td>\n",
              "      <td>Yes</td>\n",
              "    </tr>\n",
              "  </tbody>\n",
              "</table>\n",
              "</div>\n",
              "      <button class=\"colab-df-convert\" onclick=\"convertToInteractive('df-7149a39c-f03c-4203-8db2-669114570b4d')\"\n",
              "              title=\"Convert this dataframe to an interactive table.\"\n",
              "              style=\"display:none;\">\n",
              "        \n",
              "  <svg xmlns=\"http://www.w3.org/2000/svg\" height=\"24px\"viewBox=\"0 0 24 24\"\n",
              "       width=\"24px\">\n",
              "    <path d=\"M0 0h24v24H0V0z\" fill=\"none\"/>\n",
              "    <path d=\"M18.56 5.44l.94 2.06.94-2.06 2.06-.94-2.06-.94-.94-2.06-.94 2.06-2.06.94zm-11 1L8.5 8.5l.94-2.06 2.06-.94-2.06-.94L8.5 2.5l-.94 2.06-2.06.94zm10 10l.94 2.06.94-2.06 2.06-.94-2.06-.94-.94-2.06-.94 2.06-2.06.94z\"/><path d=\"M17.41 7.96l-1.37-1.37c-.4-.4-.92-.59-1.43-.59-.52 0-1.04.2-1.43.59L10.3 9.45l-7.72 7.72c-.78.78-.78 2.05 0 2.83L4 21.41c.39.39.9.59 1.41.59.51 0 1.02-.2 1.41-.59l7.78-7.78 2.81-2.81c.8-.78.8-2.07 0-2.86zM5.41 20L4 18.59l7.72-7.72 1.47 1.35L5.41 20z\"/>\n",
              "  </svg>\n",
              "      </button>\n",
              "      \n",
              "  <style>\n",
              "    .colab-df-container {\n",
              "      display:flex;\n",
              "      flex-wrap:wrap;\n",
              "      gap: 12px;\n",
              "    }\n",
              "\n",
              "    .colab-df-convert {\n",
              "      background-color: #E8F0FE;\n",
              "      border: none;\n",
              "      border-radius: 50%;\n",
              "      cursor: pointer;\n",
              "      display: none;\n",
              "      fill: #1967D2;\n",
              "      height: 32px;\n",
              "      padding: 0 0 0 0;\n",
              "      width: 32px;\n",
              "    }\n",
              "\n",
              "    .colab-df-convert:hover {\n",
              "      background-color: #E2EBFA;\n",
              "      box-shadow: 0px 1px 2px rgba(60, 64, 67, 0.3), 0px 1px 3px 1px rgba(60, 64, 67, 0.15);\n",
              "      fill: #174EA6;\n",
              "    }\n",
              "\n",
              "    [theme=dark] .colab-df-convert {\n",
              "      background-color: #3B4455;\n",
              "      fill: #D2E3FC;\n",
              "    }\n",
              "\n",
              "    [theme=dark] .colab-df-convert:hover {\n",
              "      background-color: #434B5C;\n",
              "      box-shadow: 0px 1px 3px 1px rgba(0, 0, 0, 0.15);\n",
              "      filter: drop-shadow(0px 1px 2px rgba(0, 0, 0, 0.3));\n",
              "      fill: #FFFFFF;\n",
              "    }\n",
              "  </style>\n",
              "\n",
              "      <script>\n",
              "        const buttonEl =\n",
              "          document.querySelector('#df-7149a39c-f03c-4203-8db2-669114570b4d button.colab-df-convert');\n",
              "        buttonEl.style.display =\n",
              "          google.colab.kernel.accessAllowed ? 'block' : 'none';\n",
              "\n",
              "        async function convertToInteractive(key) {\n",
              "          const element = document.querySelector('#df-7149a39c-f03c-4203-8db2-669114570b4d');\n",
              "          const dataTable =\n",
              "            await google.colab.kernel.invokeFunction('convertToInteractive',\n",
              "                                                     [key], {});\n",
              "          if (!dataTable) return;\n",
              "\n",
              "          const docLinkHtml = 'Like what you see? Visit the ' +\n",
              "            '<a target=\"_blank\" href=https://colab.research.google.com/notebooks/data_table.ipynb>data table notebook</a>'\n",
              "            + ' to learn more about interactive tables.';\n",
              "          element.innerHTML = '';\n",
              "          dataTable['output_type'] = 'display_data';\n",
              "          await google.colab.output.renderOutput(dataTable, element);\n",
              "          const docLink = document.createElement('div');\n",
              "          docLink.innerHTML = docLinkHtml;\n",
              "          element.appendChild(docLink);\n",
              "        }\n",
              "      </script>\n",
              "    </div>\n",
              "  </div>\n",
              "  "
            ]
          },
          "metadata": {},
          "execution_count": 335
        }
      ]
    },
    {
      "cell_type": "markdown",
      "source": [
        "###gender  "
      ],
      "metadata": {
        "id": "U3goEOBV2PUA"
      }
    },
    {
      "cell_type": "code",
      "source": [
        "data[\"gender\"].value_counts(dropna = False)"
      ],
      "metadata": {
        "colab": {
          "base_uri": "https://localhost:8080/"
        },
        "id": "h14jMd3lOHns",
        "outputId": "ff5882fa-be65-475b-b62b-85026845d059"
      },
      "execution_count": 336,
      "outputs": [
        {
          "output_type": "execute_result",
          "data": {
            "text/plain": [
              "Male      3049\n",
              "Female    2951\n",
              "Name: gender, dtype: int64"
            ]
          },
          "metadata": {},
          "execution_count": 336
        }
      ]
    },
    {
      "cell_type": "markdown",
      "source": [
        "Hay un pequeño desbalanceo de datos en la variable 'gender'. Pero por lo demás no se ven problemas de calidad."
      ],
      "metadata": {
        "id": "abmKKTbwORrD"
      }
    },
    {
      "cell_type": "markdown",
      "source": [
        "###SeniorCitizen"
      ],
      "metadata": {
        "id": "yHicrMZV2RqI"
      }
    },
    {
      "cell_type": "code",
      "source": [
        "data[\"SeniorCitizen\"].value_counts(dropna = False)"
      ],
      "metadata": {
        "colab": {
          "base_uri": "https://localhost:8080/"
        },
        "id": "ywDo_JNnOmkT",
        "outputId": "98a33021-bc1f-4503-f0e3-71999571215e"
      },
      "execution_count": 337,
      "outputs": [
        {
          "output_type": "execute_result",
          "data": {
            "text/plain": [
              "0    5039\n",
              "1     961\n",
              "Name: SeniorCitizen, dtype: int64"
            ]
          },
          "metadata": {},
          "execution_count": 337
        }
      ]
    },
    {
      "cell_type": "markdown",
      "source": [
        "Se observa que existen menos datos para los clientes senior."
      ],
      "metadata": {
        "id": "EmjD9UuJOxN7"
      }
    },
    {
      "cell_type": "markdown",
      "source": [
        "###Partner "
      ],
      "metadata": {
        "id": "ONQi9zzx2XNZ"
      }
    },
    {
      "cell_type": "code",
      "source": [
        "data[\"Partner\"].value_counts(dropna = False)"
      ],
      "metadata": {
        "colab": {
          "base_uri": "https://localhost:8080/"
        },
        "id": "8_fJkEE3Os67",
        "outputId": "97c43bf4-e54c-46fc-9f11-4a0ff2826cfd"
      },
      "execution_count": 338,
      "outputs": [
        {
          "output_type": "execute_result",
          "data": {
            "text/plain": [
              "No     3097\n",
              "Yes    2903\n",
              "Name: Partner, dtype: int64"
            ]
          },
          "metadata": {},
          "execution_count": 338
        }
      ]
    },
    {
      "cell_type": "markdown",
      "source": [
        "En este caso las categorias concuerdan con la opciones que indica el diccionario de datos"
      ],
      "metadata": {
        "id": "dlNhIfkZPP3j"
      }
    },
    {
      "cell_type": "markdown",
      "source": [
        "###Dependents"
      ],
      "metadata": {
        "id": "cJgu9RNd2ZPJ"
      }
    },
    {
      "cell_type": "code",
      "source": [
        "data[\"Dependents\"].value_counts(dropna = False)"
      ],
      "metadata": {
        "colab": {
          "base_uri": "https://localhost:8080/"
        },
        "outputId": "4f64dd34-4185-4d99-bfe2-aa2b2c7b4e7d",
        "id": "SD6DLKRTPF71"
      },
      "execution_count": 339,
      "outputs": [
        {
          "output_type": "execute_result",
          "data": {
            "text/plain": [
              "No     4189\n",
              "Yes    1811\n",
              "Name: Dependents, dtype: int64"
            ]
          },
          "metadata": {},
          "execution_count": 339
        }
      ]
    },
    {
      "cell_type": "markdown",
      "source": [
        "En este caso las categorias concuerdan con la opciones que indica el diccionario de datos, y se observan más datos para la categoría 'No'"
      ],
      "metadata": {
        "id": "MQBoJSuGPW21"
      }
    },
    {
      "cell_type": "markdown",
      "source": [
        "###PhoneService "
      ],
      "metadata": {
        "id": "WrW4d9VW2Uxg"
      }
    },
    {
      "cell_type": "code",
      "source": [
        "data[\"PhoneService\"].value_counts(dropna = False)"
      ],
      "metadata": {
        "colab": {
          "base_uri": "https://localhost:8080/"
        },
        "outputId": "1e0d395c-9832-427d-9f2c-42ff6d0f8e43",
        "id": "N0JELAPoPGDU"
      },
      "execution_count": 340,
      "outputs": [
        {
          "output_type": "execute_result",
          "data": {
            "text/plain": [
              "Yes    5410\n",
              "No      590\n",
              "Name: PhoneService, dtype: int64"
            ]
          },
          "metadata": {},
          "execution_count": 340
        }
      ]
    },
    {
      "cell_type": "markdown",
      "source": [
        "En este caso las categorias concuerdan con la opciones que indica el diccionario de datos,y se observan más datos para la categoría 'Yes'"
      ],
      "metadata": {
        "id": "rcY2z_i3PXDT"
      }
    },
    {
      "cell_type": "markdown",
      "source": [
        "###MultipleLines"
      ],
      "metadata": {
        "id": "mKj5-10H2bg4"
      }
    },
    {
      "cell_type": "code",
      "source": [
        "data[\"MultipleLines\"].value_counts(dropna = False)"
      ],
      "metadata": {
        "colab": {
          "base_uri": "https://localhost:8080/"
        },
        "outputId": "c949e88a-01de-488d-bf6a-7b7bbf3d657c",
        "id": "c4hCGZ68PGI-"
      },
      "execution_count": 341,
      "outputs": [
        {
          "output_type": "execute_result",
          "data": {
            "text/plain": [
              "No                  2883\n",
              "Yes                 2527\n",
              "No phone service     590\n",
              "Name: MultipleLines, dtype: int64"
            ]
          },
          "metadata": {},
          "execution_count": 341
        }
      ]
    },
    {
      "cell_type": "markdown",
      "source": [
        "En este caso las categorias concuerdan con la opciones que indica el diccionario de datos"
      ],
      "metadata": {
        "id": "Q7JACFw7PXWd"
      }
    },
    {
      "cell_type": "markdown",
      "source": [
        "###InternetService"
      ],
      "metadata": {
        "id": "neLnZMoP23YM"
      }
    },
    {
      "cell_type": "code",
      "source": [
        "data[\"InternetService\"].value_counts(dropna = False)"
      ],
      "metadata": {
        "colab": {
          "base_uri": "https://localhost:8080/"
        },
        "outputId": "0543a0f4-d859-4a64-95ef-a7028896b63d",
        "id": "QyGtsACrPrjM"
      },
      "execution_count": 342,
      "outputs": [
        {
          "output_type": "execute_result",
          "data": {
            "text/plain": [
              "Fiber optic    2624\n",
              "DSL            2061\n",
              "No             1315\n",
              "Name: InternetService, dtype: int64"
            ]
          },
          "metadata": {},
          "execution_count": 342
        }
      ]
    },
    {
      "cell_type": "markdown",
      "source": [
        "En este caso las categorias concuerdan con la opciones que indica el diccionario de datos, aunque la categoría No es la que menos datos tiene de las 3."
      ],
      "metadata": {
        "id": "9dI8TtDePrjM"
      }
    },
    {
      "cell_type": "markdown",
      "source": [
        "###OnlineSecurity"
      ],
      "metadata": {
        "id": "rvdk8WYf25WE"
      }
    },
    {
      "cell_type": "code",
      "source": [
        "data[\"OnlineSecurity\"].value_counts(dropna = False)"
      ],
      "metadata": {
        "colab": {
          "base_uri": "https://localhost:8080/"
        },
        "outputId": "3ab99825-c002-41c9-d38a-dabc2879e94e",
        "id": "XY5qlZaLPzXM"
      },
      "execution_count": 343,
      "outputs": [
        {
          "output_type": "execute_result",
          "data": {
            "text/plain": [
              "No                     2965\n",
              "Yes                    1720\n",
              "No internet service    1315\n",
              "Name: OnlineSecurity, dtype: int64"
            ]
          },
          "metadata": {},
          "execution_count": 343
        }
      ]
    },
    {
      "cell_type": "markdown",
      "source": [
        "En este caso las categorias concuerdan con la opciones que indica el diccionario de datos, aes desbalanceo de datos entre las 3 opciones es evidente, y dado que se ve relación con el servicio de internet se revisa "
      ],
      "metadata": {
        "id": "lCvOjqdRPzXM"
      }
    },
    {
      "cell_type": "markdown",
      "source": [
        "###OnlineBackup"
      ],
      "metadata": {
        "id": "Z2bFOa3z260k"
      }
    },
    {
      "cell_type": "code",
      "source": [
        "data[\"OnlineBackup\"].value_counts(dropna = False)"
      ],
      "metadata": {
        "colab": {
          "base_uri": "https://localhost:8080/"
        },
        "id": "IH-0Fi6iSWnw",
        "outputId": "acbaf84c-9479-4465-a442-c4815b611b04"
      },
      "execution_count": 344,
      "outputs": [
        {
          "output_type": "execute_result",
          "data": {
            "text/plain": [
              "No                     2623\n",
              "Yes                    2062\n",
              "No internet service    1315\n",
              "Name: OnlineBackup, dtype: int64"
            ]
          },
          "metadata": {},
          "execution_count": 344
        }
      ]
    },
    {
      "cell_type": "markdown",
      "source": [
        "###DeviceProtection"
      ],
      "metadata": {
        "id": "d1tz_OtA28jM"
      }
    },
    {
      "cell_type": "code",
      "source": [
        "data[\"DeviceProtection\"].value_counts(dropna = False)"
      ],
      "metadata": {
        "colab": {
          "base_uri": "https://localhost:8080/"
        },
        "id": "uaAdHViUSYTy",
        "outputId": "4c3de2ec-9996-4e5f-d04a-c7933c01a5a3"
      },
      "execution_count": 345,
      "outputs": [
        {
          "output_type": "execute_result",
          "data": {
            "text/plain": [
              "No                     2620\n",
              "Yes                    2065\n",
              "No internet service    1315\n",
              "Name: DeviceProtection, dtype: int64"
            ]
          },
          "metadata": {},
          "execution_count": 345
        }
      ]
    },
    {
      "cell_type": "markdown",
      "source": [
        "###TechSupport"
      ],
      "metadata": {
        "id": "Q8g5Kl322_48"
      }
    },
    {
      "cell_type": "code",
      "source": [
        "data[\"TechSupport\"].value_counts(dropna = False)      \n"
      ],
      "metadata": {
        "colab": {
          "base_uri": "https://localhost:8080/"
        },
        "id": "cwEXbJyASYce",
        "outputId": "08fbd840-83e8-4bbd-ac15-353f57b6f8c4"
      },
      "execution_count": 346,
      "outputs": [
        {
          "output_type": "execute_result",
          "data": {
            "text/plain": [
              "No                     2950\n",
              "Yes                    1735\n",
              "No internet service    1315\n",
              "Name: TechSupport, dtype: int64"
            ]
          },
          "metadata": {},
          "execution_count": 346
        }
      ]
    },
    {
      "cell_type": "markdown",
      "source": [
        "###StreamingTV"
      ],
      "metadata": {
        "id": "76IvIHZU3V6k"
      }
    },
    {
      "cell_type": "code",
      "source": [
        "data[\"StreamingTV\"].value_counts(dropna = False)      "
      ],
      "metadata": {
        "colab": {
          "base_uri": "https://localhost:8080/"
        },
        "id": "ytl01eXdSYkd",
        "outputId": "5028310f-620b-4021-c2fe-7fdc99d9489b"
      },
      "execution_count": 347,
      "outputs": [
        {
          "output_type": "execute_result",
          "data": {
            "text/plain": [
              "No                     2380\n",
              "Yes                    2305\n",
              "No internet service    1315\n",
              "Name: StreamingTV, dtype: int64"
            ]
          },
          "metadata": {},
          "execution_count": 347
        }
      ]
    },
    {
      "cell_type": "markdown",
      "source": [
        "###StreamingMovies"
      ],
      "metadata": {
        "id": "kUChez0R3XgW"
      }
    },
    {
      "cell_type": "code",
      "source": [
        "data[\"StreamingMovies\"].value_counts(dropna = False)  "
      ],
      "metadata": {
        "colab": {
          "base_uri": "https://localhost:8080/"
        },
        "id": "zusBTCOOSYsy",
        "outputId": "5f6795bf-ce74-425b-89e3-126afcd33754"
      },
      "execution_count": 348,
      "outputs": [
        {
          "output_type": "execute_result",
          "data": {
            "text/plain": [
              "No                     2356\n",
              "Yes                    2329\n",
              "No internet service    1315\n",
              "Name: StreamingMovies, dtype: int64"
            ]
          },
          "metadata": {},
          "execution_count": 348
        }
      ]
    },
    {
      "cell_type": "markdown",
      "source": [
        "###Contract"
      ],
      "metadata": {
        "id": "yw3GaCGL3ZE8"
      }
    },
    {
      "cell_type": "code",
      "source": [
        "data[\"Contract\"].value_counts(dropna = False)         "
      ],
      "metadata": {
        "colab": {
          "base_uri": "https://localhost:8080/"
        },
        "id": "E3r_mvT7SY0J",
        "outputId": "16fe7247-0fd1-479a-c10a-4878e67b4993"
      },
      "execution_count": 349,
      "outputs": [
        {
          "output_type": "execute_result",
          "data": {
            "text/plain": [
              "Month-to-month    3293\n",
              "Two year          1459\n",
              "One year          1248\n",
              "Name: Contract, dtype: int64"
            ]
          },
          "metadata": {},
          "execution_count": 349
        }
      ]
    },
    {
      "cell_type": "markdown",
      "source": [
        "###PaperlessBilling"
      ],
      "metadata": {
        "id": "GQ5KjdBU3azP"
      }
    },
    {
      "cell_type": "code",
      "source": [
        "data[\"PaperlessBilling\"].value_counts(dropna = False) "
      ],
      "metadata": {
        "colab": {
          "base_uri": "https://localhost:8080/"
        },
        "id": "kiX3vtdGSmRI",
        "outputId": "e966ec45-2f33-434a-e0f6-4d51a856f327"
      },
      "execution_count": 350,
      "outputs": [
        {
          "output_type": "execute_result",
          "data": {
            "text/plain": [
              "Yes    3510\n",
              "No     2490\n",
              "Name: PaperlessBilling, dtype: int64"
            ]
          },
          "metadata": {},
          "execution_count": 350
        }
      ]
    },
    {
      "cell_type": "markdown",
      "source": [
        "###PaymentMethod"
      ],
      "metadata": {
        "id": "5iyH_47V3cfi"
      }
    },
    {
      "cell_type": "code",
      "source": [
        "data[\"PaymentMethod\"].value_counts(dropna = False)    "
      ],
      "metadata": {
        "colab": {
          "base_uri": "https://localhost:8080/"
        },
        "id": "kcam66AzSm91",
        "outputId": "1e883656-4b85-4926-d480-ed879725b035"
      },
      "execution_count": 351,
      "outputs": [
        {
          "output_type": "execute_result",
          "data": {
            "text/plain": [
              "Electronic check             2030\n",
              "Mailed check                 1381\n",
              "Credit card (automatic)      1299\n",
              "Bank transfer (automatic)    1290\n",
              "Name: PaymentMethod, dtype: int64"
            ]
          },
          "metadata": {},
          "execution_count": 351
        }
      ]
    },
    {
      "cell_type": "markdown",
      "source": [
        "###Churn"
      ],
      "metadata": {
        "id": "yJ7JE75n3gIe"
      }
    },
    {
      "cell_type": "code",
      "source": [
        "data[\"Churn\"].value_counts(dropna = False)"
      ],
      "metadata": {
        "colab": {
          "base_uri": "https://localhost:8080/"
        },
        "id": "NlJpxI3rSnQp",
        "outputId": "d1b643b5-b6ae-4230-e761-dcfb30e65ec4"
      },
      "execution_count": 352,
      "outputs": [
        {
          "output_type": "execute_result",
          "data": {
            "text/plain": [
              "No     4408\n",
              "Yes    1592\n",
              "Name: Churn, dtype: int64"
            ]
          },
          "metadata": {},
          "execution_count": 352
        }
      ]
    },
    {
      "cell_type": "markdown",
      "source": [
        "Para la variable a predecir, podemos ver que hay un desbalanceo de clase significativo, dado que la clase 'No' es más que el doble que la clase 'Yes'"
      ],
      "metadata": {
        "id": "jyllPQ1XSwe2"
      }
    },
    {
      "cell_type": "markdown",
      "source": [
        "# **Modelamiento**"
      ],
      "metadata": {
        "id": "LCq4-QyIeOPa"
      }
    },
    {
      "cell_type": "markdown",
      "source": [
        "## División de los datos:"
      ],
      "metadata": {
        "id": "lj0pHFz14C2J"
      }
    },
    {
      "cell_type": "code",
      "execution_count": 354,
      "metadata": {
        "id": "qDlZbq7Ery-l"
      },
      "outputs": [],
      "source": [
        "train, test = train_test_split(data, test_size=0.2, random_state=33)"
      ]
    },
    {
      "cell_type": "code",
      "source": [
        "#separando la variable objetivo:\n",
        "x_train = train.drop('Churn',axis=1)\n",
        "y_train = train['Churn']\n",
        "\n",
        "#separando la variable objetivo:\n",
        "x_test = test.drop('Churn',axis=1)\n",
        "y_test = test['Churn']"
      ],
      "metadata": {
        "id": "oIb7kq2d7yS9"
      },
      "execution_count": 355,
      "outputs": []
    },
    {
      "cell_type": "code",
      "source": [
        "x_train.head()"
      ],
      "metadata": {
        "colab": {
          "base_uri": "https://localhost:8080/",
          "height": 357
        },
        "id": "js_bX8ib5sAm",
        "outputId": "a17b5e32-e372-4f85-b467-2d38bd4a3a97"
      },
      "execution_count": 356,
      "outputs": [
        {
          "output_type": "execute_result",
          "data": {
            "text/plain": [
              "      gender  SeniorCitizen Partner Dependents  tenure PhoneService  \\\n",
              "5674    Male              0     Yes         No      64          Yes   \n",
              "2673  Female              0     Yes         No      17          Yes   \n",
              "5117  Female              0     Yes        Yes      72          Yes   \n",
              "974   Female              0     Yes        Yes      62          Yes   \n",
              "148     Male              0      No         No       1          Yes   \n",
              "\n",
              "     MultipleLines InternetService       OnlineSecurity         OnlineBackup  \\\n",
              "5674            No     Fiber optic                  Yes                   No   \n",
              "2673            No              No  No internet service  No internet service   \n",
              "5117           Yes              No  No internet service  No internet service   \n",
              "974            Yes     Fiber optic                  Yes                   No   \n",
              "148             No             DSL                  Yes                   No   \n",
              "\n",
              "         DeviceProtection          TechSupport          StreamingTV  \\\n",
              "5674                   No                   No                   No   \n",
              "2673  No internet service  No internet service  No internet service   \n",
              "5117  No internet service  No internet service  No internet service   \n",
              "974                    No                   No                  Yes   \n",
              "148                    No                   No                   No   \n",
              "\n",
              "          StreamingMovies        Contract PaperlessBilling  \\\n",
              "5674                   No  Month-to-month              Yes   \n",
              "2673  No internet service        One year               No   \n",
              "5117  No internet service        Two year               No   \n",
              "974                   Yes        Two year              Yes   \n",
              "148                    No  Month-to-month              Yes   \n",
              "\n",
              "                  PaymentMethod  MonthlyCharges  TotalCharges  \n",
              "5674               Mailed check           73.55       4764.00  \n",
              "2673               Mailed check           19.35        307.00  \n",
              "5117  Bank transfer (automatic)           24.45       1709.10  \n",
              "974   Bank transfer (automatic)          101.15       6638.35  \n",
              "148                Mailed check           48.55         48.55  "
            ],
            "text/html": [
              "\n",
              "  <div id=\"df-ef38def9-90ec-4da3-aed9-5c94360787f6\">\n",
              "    <div class=\"colab-df-container\">\n",
              "      <div>\n",
              "<style scoped>\n",
              "    .dataframe tbody tr th:only-of-type {\n",
              "        vertical-align: middle;\n",
              "    }\n",
              "\n",
              "    .dataframe tbody tr th {\n",
              "        vertical-align: top;\n",
              "    }\n",
              "\n",
              "    .dataframe thead th {\n",
              "        text-align: right;\n",
              "    }\n",
              "</style>\n",
              "<table border=\"1\" class=\"dataframe\">\n",
              "  <thead>\n",
              "    <tr style=\"text-align: right;\">\n",
              "      <th></th>\n",
              "      <th>gender</th>\n",
              "      <th>SeniorCitizen</th>\n",
              "      <th>Partner</th>\n",
              "      <th>Dependents</th>\n",
              "      <th>tenure</th>\n",
              "      <th>PhoneService</th>\n",
              "      <th>MultipleLines</th>\n",
              "      <th>InternetService</th>\n",
              "      <th>OnlineSecurity</th>\n",
              "      <th>OnlineBackup</th>\n",
              "      <th>DeviceProtection</th>\n",
              "      <th>TechSupport</th>\n",
              "      <th>StreamingTV</th>\n",
              "      <th>StreamingMovies</th>\n",
              "      <th>Contract</th>\n",
              "      <th>PaperlessBilling</th>\n",
              "      <th>PaymentMethod</th>\n",
              "      <th>MonthlyCharges</th>\n",
              "      <th>TotalCharges</th>\n",
              "    </tr>\n",
              "  </thead>\n",
              "  <tbody>\n",
              "    <tr>\n",
              "      <th>5674</th>\n",
              "      <td>Male</td>\n",
              "      <td>0</td>\n",
              "      <td>Yes</td>\n",
              "      <td>No</td>\n",
              "      <td>64</td>\n",
              "      <td>Yes</td>\n",
              "      <td>No</td>\n",
              "      <td>Fiber optic</td>\n",
              "      <td>Yes</td>\n",
              "      <td>No</td>\n",
              "      <td>No</td>\n",
              "      <td>No</td>\n",
              "      <td>No</td>\n",
              "      <td>No</td>\n",
              "      <td>Month-to-month</td>\n",
              "      <td>Yes</td>\n",
              "      <td>Mailed check</td>\n",
              "      <td>73.55</td>\n",
              "      <td>4764.00</td>\n",
              "    </tr>\n",
              "    <tr>\n",
              "      <th>2673</th>\n",
              "      <td>Female</td>\n",
              "      <td>0</td>\n",
              "      <td>Yes</td>\n",
              "      <td>No</td>\n",
              "      <td>17</td>\n",
              "      <td>Yes</td>\n",
              "      <td>No</td>\n",
              "      <td>No</td>\n",
              "      <td>No internet service</td>\n",
              "      <td>No internet service</td>\n",
              "      <td>No internet service</td>\n",
              "      <td>No internet service</td>\n",
              "      <td>No internet service</td>\n",
              "      <td>No internet service</td>\n",
              "      <td>One year</td>\n",
              "      <td>No</td>\n",
              "      <td>Mailed check</td>\n",
              "      <td>19.35</td>\n",
              "      <td>307.00</td>\n",
              "    </tr>\n",
              "    <tr>\n",
              "      <th>5117</th>\n",
              "      <td>Female</td>\n",
              "      <td>0</td>\n",
              "      <td>Yes</td>\n",
              "      <td>Yes</td>\n",
              "      <td>72</td>\n",
              "      <td>Yes</td>\n",
              "      <td>Yes</td>\n",
              "      <td>No</td>\n",
              "      <td>No internet service</td>\n",
              "      <td>No internet service</td>\n",
              "      <td>No internet service</td>\n",
              "      <td>No internet service</td>\n",
              "      <td>No internet service</td>\n",
              "      <td>No internet service</td>\n",
              "      <td>Two year</td>\n",
              "      <td>No</td>\n",
              "      <td>Bank transfer (automatic)</td>\n",
              "      <td>24.45</td>\n",
              "      <td>1709.10</td>\n",
              "    </tr>\n",
              "    <tr>\n",
              "      <th>974</th>\n",
              "      <td>Female</td>\n",
              "      <td>0</td>\n",
              "      <td>Yes</td>\n",
              "      <td>Yes</td>\n",
              "      <td>62</td>\n",
              "      <td>Yes</td>\n",
              "      <td>Yes</td>\n",
              "      <td>Fiber optic</td>\n",
              "      <td>Yes</td>\n",
              "      <td>No</td>\n",
              "      <td>No</td>\n",
              "      <td>No</td>\n",
              "      <td>Yes</td>\n",
              "      <td>Yes</td>\n",
              "      <td>Two year</td>\n",
              "      <td>Yes</td>\n",
              "      <td>Bank transfer (automatic)</td>\n",
              "      <td>101.15</td>\n",
              "      <td>6638.35</td>\n",
              "    </tr>\n",
              "    <tr>\n",
              "      <th>148</th>\n",
              "      <td>Male</td>\n",
              "      <td>0</td>\n",
              "      <td>No</td>\n",
              "      <td>No</td>\n",
              "      <td>1</td>\n",
              "      <td>Yes</td>\n",
              "      <td>No</td>\n",
              "      <td>DSL</td>\n",
              "      <td>Yes</td>\n",
              "      <td>No</td>\n",
              "      <td>No</td>\n",
              "      <td>No</td>\n",
              "      <td>No</td>\n",
              "      <td>No</td>\n",
              "      <td>Month-to-month</td>\n",
              "      <td>Yes</td>\n",
              "      <td>Mailed check</td>\n",
              "      <td>48.55</td>\n",
              "      <td>48.55</td>\n",
              "    </tr>\n",
              "  </tbody>\n",
              "</table>\n",
              "</div>\n",
              "      <button class=\"colab-df-convert\" onclick=\"convertToInteractive('df-ef38def9-90ec-4da3-aed9-5c94360787f6')\"\n",
              "              title=\"Convert this dataframe to an interactive table.\"\n",
              "              style=\"display:none;\">\n",
              "        \n",
              "  <svg xmlns=\"http://www.w3.org/2000/svg\" height=\"24px\"viewBox=\"0 0 24 24\"\n",
              "       width=\"24px\">\n",
              "    <path d=\"M0 0h24v24H0V0z\" fill=\"none\"/>\n",
              "    <path d=\"M18.56 5.44l.94 2.06.94-2.06 2.06-.94-2.06-.94-.94-2.06-.94 2.06-2.06.94zm-11 1L8.5 8.5l.94-2.06 2.06-.94-2.06-.94L8.5 2.5l-.94 2.06-2.06.94zm10 10l.94 2.06.94-2.06 2.06-.94-2.06-.94-.94-2.06-.94 2.06-2.06.94z\"/><path d=\"M17.41 7.96l-1.37-1.37c-.4-.4-.92-.59-1.43-.59-.52 0-1.04.2-1.43.59L10.3 9.45l-7.72 7.72c-.78.78-.78 2.05 0 2.83L4 21.41c.39.39.9.59 1.41.59.51 0 1.02-.2 1.41-.59l7.78-7.78 2.81-2.81c.8-.78.8-2.07 0-2.86zM5.41 20L4 18.59l7.72-7.72 1.47 1.35L5.41 20z\"/>\n",
              "  </svg>\n",
              "      </button>\n",
              "      \n",
              "  <style>\n",
              "    .colab-df-container {\n",
              "      display:flex;\n",
              "      flex-wrap:wrap;\n",
              "      gap: 12px;\n",
              "    }\n",
              "\n",
              "    .colab-df-convert {\n",
              "      background-color: #E8F0FE;\n",
              "      border: none;\n",
              "      border-radius: 50%;\n",
              "      cursor: pointer;\n",
              "      display: none;\n",
              "      fill: #1967D2;\n",
              "      height: 32px;\n",
              "      padding: 0 0 0 0;\n",
              "      width: 32px;\n",
              "    }\n",
              "\n",
              "    .colab-df-convert:hover {\n",
              "      background-color: #E2EBFA;\n",
              "      box-shadow: 0px 1px 2px rgba(60, 64, 67, 0.3), 0px 1px 3px 1px rgba(60, 64, 67, 0.15);\n",
              "      fill: #174EA6;\n",
              "    }\n",
              "\n",
              "    [theme=dark] .colab-df-convert {\n",
              "      background-color: #3B4455;\n",
              "      fill: #D2E3FC;\n",
              "    }\n",
              "\n",
              "    [theme=dark] .colab-df-convert:hover {\n",
              "      background-color: #434B5C;\n",
              "      box-shadow: 0px 1px 3px 1px rgba(0, 0, 0, 0.15);\n",
              "      filter: drop-shadow(0px 1px 2px rgba(0, 0, 0, 0.3));\n",
              "      fill: #FFFFFF;\n",
              "    }\n",
              "  </style>\n",
              "\n",
              "      <script>\n",
              "        const buttonEl =\n",
              "          document.querySelector('#df-ef38def9-90ec-4da3-aed9-5c94360787f6 button.colab-df-convert');\n",
              "        buttonEl.style.display =\n",
              "          google.colab.kernel.accessAllowed ? 'block' : 'none';\n",
              "\n",
              "        async function convertToInteractive(key) {\n",
              "          const element = document.querySelector('#df-ef38def9-90ec-4da3-aed9-5c94360787f6');\n",
              "          const dataTable =\n",
              "            await google.colab.kernel.invokeFunction('convertToInteractive',\n",
              "                                                     [key], {});\n",
              "          if (!dataTable) return;\n",
              "\n",
              "          const docLinkHtml = 'Like what you see? Visit the ' +\n",
              "            '<a target=\"_blank\" href=https://colab.research.google.com/notebooks/data_table.ipynb>data table notebook</a>'\n",
              "            + ' to learn more about interactive tables.';\n",
              "          element.innerHTML = '';\n",
              "          dataTable['output_type'] = 'display_data';\n",
              "          await google.colab.output.renderOutput(dataTable, element);\n",
              "          const docLink = document.createElement('div');\n",
              "          docLink.innerHTML = docLinkHtml;\n",
              "          element.appendChild(docLink);\n",
              "        }\n",
              "      </script>\n",
              "    </div>\n",
              "  </div>\n",
              "  "
            ]
          },
          "metadata": {},
          "execution_count": 356
        }
      ]
    },
    {
      "cell_type": "code",
      "source": [
        "y_train"
      ],
      "metadata": {
        "colab": {
          "base_uri": "https://localhost:8080/"
        },
        "id": "FbXlVUjZ5uLZ",
        "outputId": "a18306f0-300e-44f5-cce8-df59133dd157"
      },
      "execution_count": 357,
      "outputs": [
        {
          "output_type": "execute_result",
          "data": {
            "text/plain": [
              "5674     No\n",
              "2673     No\n",
              "5117     No\n",
              "974      No\n",
              "148     Yes\n",
              "       ... \n",
              "3273     No\n",
              "2706     No\n",
              "578      No\n",
              "5848     No\n",
              "2439    Yes\n",
              "Name: Churn, Length: 4800, dtype: object"
            ]
          },
          "metadata": {},
          "execution_count": 357
        }
      ]
    },
    {
      "cell_type": "markdown",
      "source": [
        "## Definición de pipeline"
      ],
      "metadata": {
        "id": "qJTCccTz3p7-"
      }
    },
    {
      "cell_type": "markdown",
      "source": [
        "De acuerdo con el análisis de los datos, se deben tener en cuenta las siguientes transformaciónes:\n",
        "\n",
        "\n",
        "\n",
        "1.   Las columnas que tienen solo 2 variables categóricas: 'gender', 'Partner', 'Dependents', 'PhoneService' y 'PaperlessBilling'; aplicarles un ordinalEncoder.\n",
        "2.   Las columnas con más de 2 varaibles categóricas: 'MultipleLines', 'InternetService', 'OnlineSecurity', 'OnlineBackup', 'DeviceProtection', 'TechSupport', 'StreamingTV', 'StreamingMovies', 'Contract' y 'PaymentMethod'; aplicar el OneHotEncoder\n",
        "3.   Aplicar transformación logaritmica variable TotalCharges\n",
        "\n",
        "Los tres pasos anteriores los incluimos en la definición de nuestro pipeline"
      ],
      "metadata": {
        "id": "d_jRDmtBZkj9"
      }
    },
    {
      "cell_type": "code",
      "execution_count": 358,
      "metadata": {
        "id": "410d8a6b-589d-4910-8507-1ac9fbda6195"
      },
      "outputs": [],
      "source": [
        "pipeline = Pipeline([\n",
        "    ('transformer', ColumnTransformer([\n",
        "        ('ordinal', OrdinalEncoder(), ['gender', 'Partner', 'Dependents', 'PhoneService', 'PaperlessBilling']),\n",
        "        ('categorical', OneHotEncoder(sparse = False, handle_unknown = 'ignore'), ['MultipleLines', 'InternetService', 'OnlineSecurity', 'OnlineBackup', 'DeviceProtection', 'TechSupport', 'StreamingTV', 'StreamingMovies', 'Contract', 'PaymentMethod']),\n",
        "        ('logaritm', PowerTransformer(), ['TotalCharges'])\n",
        "    ], remainder = 'passthrough')),\n",
        "    ('poly', 'passthrough'),\n",
        "    ('normalizer', StandardScaler()),\n",
        "    ('classifier',  DecisionTreeClassifier())\n",
        "]) "
      ]
    },
    {
      "cell_type": "markdown",
      "source": [
        "## Búsqueda en grilla"
      ],
      "metadata": {
        "id": "2e-QsBtZcFj9"
      }
    },
    {
      "cell_type": "markdown",
      "source": [
        "Se define tranbajar con los siguientes algoritmos de clasificación: árboles de de decisión, regresión logística, red neuronal MLP, Random Forest y SVM; así como se definen sus respectivos conjuntos de hiper-parámetros para encontrar el mejor modelo a partir de la métrica ROC-AUC."
      ],
      "metadata": {
        "id": "kXn4gZvPbIFr"
      }
    },
    {
      "cell_type": "code",
      "execution_count": 359,
      "metadata": {
        "id": "926599c5-3dd4-4b0d-8f25-718b6cdc8cad"
      },
      "outputs": [],
      "source": [
        "param_grid = [\n",
        "    {\n",
        "        'normalizer': [StandardScaler(), MinMaxScaler(), 'passthrough'],\n",
        "        'classifier': [DecisionTreeClassifier(random_state = 20)],\n",
        "        'classifier__criterion': ['gini', 'entropy'],\n",
        "        'classifier__max_depth' : [2, 3, 5, 8, 10],\n",
        "        'classifier__class_weight': ['balanced', None]\n",
        "    },\n",
        "    {\n",
        "        'poly': [PolynomialFeatures()],\n",
        "        'poly__degree': [1, 2, 3],\n",
        "        'normalizer': [StandardScaler(), MinMaxScaler()],\n",
        "        'classifier': [LogisticRegression()],\n",
        "        'classifier__penalty': ['none', 'l1', 'l2'],\n",
        "        'classifier__C': [0.001, 0.1, 1.],\n",
        "    },\n",
        "     {\n",
        "        'normalizer': [StandardScaler(), MinMaxScaler()],\n",
        "        'classifier': [MLPRegressor(random_state=32)],\n",
        "        'classifier__hidden_layer_sizes': [100, 150, 200],\n",
        "        'classifier__alpha': [0.00001, 0.0001, 0.001],\n",
        "       \n",
        "    },\n",
        "    {\n",
        "        'normalizer': [StandardScaler(), MinMaxScaler()],\n",
        "        'classifier': [RandomForestClassifier(random_state=32, n_jobs=-1)],\n",
        "        'classifier__max_depth': [5, 12, 20, 50],\n",
        "        'classifier__criterion': ['gini','entropy']       \n",
        "    },\n",
        "    {\n",
        "        'normalizer': [StandardScaler(), MinMaxScaler()],\n",
        "        'classifier': [SVC(random_state=32)],\n",
        "        'classifier__degree' : [3, 5, 20],\n",
        "        'classifier__kernel' : ['poly', 'rbf']\n",
        "    }\n",
        "]"
      ]
    },
    {
      "cell_type": "code",
      "execution_count": 360,
      "metadata": {
        "id": "oJkzZ6DBcG4H"
      },
      "outputs": [],
      "source": [
        "grid = GridSearchCV(estimator = pipeline, param_grid = param_grid, scoring='roc_auc', n_jobs = -1, cv = 5, verbose = 2, error_score=0.0)"
      ]
    },
    {
      "cell_type": "code",
      "source": [
        "grid.fit(x_train, y_train)"
      ],
      "metadata": {
        "colab": {
          "base_uri": "https://localhost:8080/"
        },
        "id": "v5nldXFPKy7i",
        "outputId": "d1ff7dd7-06cf-449d-ac40-756fc37dcfeb"
      },
      "execution_count": 361,
      "outputs": [
        {
          "output_type": "stream",
          "name": "stdout",
          "text": [
            "Fitting 5 folds for each of 160 candidates, totalling 800 fits\n"
          ]
        },
        {
          "output_type": "stream",
          "name": "stderr",
          "text": [
            "/usr/local/lib/python3.8/dist-packages/joblib/externals/loky/process_executor.py:700: UserWarning: A worker stopped while some jobs were given to the executor. This can be caused by a too short worker timeout or by a memory leak.\n",
            "  warnings.warn(\n",
            "/usr/local/lib/python3.8/dist-packages/sklearn/model_selection/_validation.py:372: FitFailedWarning: \n",
            "180 fits failed out of a total of 800.\n",
            "The score on these train-test partitions for these parameters will be set to 0.0.\n",
            "If these failures are not expected, you can try to debug them by setting error_score='raise'.\n",
            "\n",
            "Below are more details about the failures:\n",
            "--------------------------------------------------------------------------------\n",
            "90 fits failed with the following error:\n",
            "Traceback (most recent call last):\n",
            "  File \"/usr/local/lib/python3.8/dist-packages/sklearn/model_selection/_validation.py\", line 680, in _fit_and_score\n",
            "    estimator.fit(X_train, y_train, **fit_params)\n",
            "  File \"/usr/local/lib/python3.8/dist-packages/sklearn/pipeline.py\", line 394, in fit\n",
            "    self._final_estimator.fit(Xt, y, **fit_params_last_step)\n",
            "  File \"/usr/local/lib/python3.8/dist-packages/sklearn/linear_model/_logistic.py\", line 1461, in fit\n",
            "    solver = _check_solver(self.solver, self.penalty, self.dual)\n",
            "  File \"/usr/local/lib/python3.8/dist-packages/sklearn/linear_model/_logistic.py\", line 447, in _check_solver\n",
            "    raise ValueError(\n",
            "ValueError: Solver lbfgs supports only 'l2' or 'none' penalties, got l1 penalty.\n",
            "\n",
            "--------------------------------------------------------------------------------\n",
            "90 fits failed with the following error:\n",
            "Traceback (most recent call last):\n",
            "  File \"/usr/local/lib/python3.8/dist-packages/sklearn/model_selection/_validation.py\", line 680, in _fit_and_score\n",
            "    estimator.fit(X_train, y_train, **fit_params)\n",
            "  File \"/usr/local/lib/python3.8/dist-packages/sklearn/pipeline.py\", line 394, in fit\n",
            "    self._final_estimator.fit(Xt, y, **fit_params_last_step)\n",
            "  File \"/usr/local/lib/python3.8/dist-packages/sklearn/neural_network/_multilayer_perceptron.py\", line 752, in fit\n",
            "    return self._fit(X, y, incremental=False)\n",
            "  File \"/usr/local/lib/python3.8/dist-packages/sklearn/neural_network/_multilayer_perceptron.py\", line 393, in _fit\n",
            "    X, y = self._validate_input(X, y, incremental, reset=first_pass)\n",
            "  File \"/usr/local/lib/python3.8/dist-packages/sklearn/neural_network/_multilayer_perceptron.py\", line 1589, in _validate_input\n",
            "    X, y = self._validate_data(\n",
            "  File \"/usr/local/lib/python3.8/dist-packages/sklearn/base.py\", line 581, in _validate_data\n",
            "    X, y = check_X_y(X, y, **check_params)\n",
            "  File \"/usr/local/lib/python3.8/dist-packages/sklearn/utils/validation.py\", line 979, in check_X_y\n",
            "    y = _check_y(y, multi_output=multi_output, y_numeric=y_numeric)\n",
            "  File \"/usr/local/lib/python3.8/dist-packages/sklearn/utils/validation.py\", line 997, in _check_y\n",
            "    y = y.astype(np.float64)\n",
            "ValueError: could not convert string to float: 'No'\n",
            "\n",
            "  warnings.warn(some_fits_failed_message, FitFailedWarning)\n"
          ]
        },
        {
          "output_type": "execute_result",
          "data": {
            "text/plain": [
              "GridSearchCV(cv=5, error_score=0.0,\n",
              "             estimator=Pipeline(steps=[('transformer',\n",
              "                                        ColumnTransformer(remainder='passthrough',\n",
              "                                                          transformers=[('ordinal',\n",
              "                                                                         OrdinalEncoder(),\n",
              "                                                                         ['gender',\n",
              "                                                                          'Partner',\n",
              "                                                                          'Dependents',\n",
              "                                                                          'PhoneService',\n",
              "                                                                          'PaperlessBilling']),\n",
              "                                                                        ('categorical',\n",
              "                                                                         OneHotEncoder(handle_unknown='ignore',\n",
              "                                                                                       sparse=False),\n",
              "                                                                         ['MultipleLines',\n",
              "                                                                          'InternetService',\n",
              "                                                                          'OnlineSecurity',\n",
              "                                                                          'On...\n",
              "                         {'classifier': [RandomForestClassifier(n_jobs=-1,\n",
              "                                                                random_state=32)],\n",
              "                          'classifier__criterion': ['gini', 'entropy'],\n",
              "                          'classifier__max_depth': [5, 12, 20, 50],\n",
              "                          'normalizer': [StandardScaler(), MinMaxScaler()]},\n",
              "                         {'classifier': [SVC(random_state=32)],\n",
              "                          'classifier__degree': [3, 5, 20],\n",
              "                          'classifier__kernel': ['poly', 'rbf'],\n",
              "                          'normalizer': [StandardScaler(), MinMaxScaler()]}],\n",
              "             scoring='roc_auc', verbose=2)"
            ]
          },
          "metadata": {},
          "execution_count": 361
        }
      ]
    },
    {
      "cell_type": "code",
      "source": [
        "grid.best_params_"
      ],
      "metadata": {
        "colab": {
          "base_uri": "https://localhost:8080/"
        },
        "id": "s9WPHwBENKtX",
        "outputId": "a5b0decf-7b18-4308-906e-c03ab6577a1b"
      },
      "execution_count": 362,
      "outputs": [
        {
          "output_type": "execute_result",
          "data": {
            "text/plain": [
              "{'classifier': LogisticRegression(),\n",
              " 'classifier__C': 1.0,\n",
              " 'classifier__penalty': 'l2',\n",
              " 'normalizer': StandardScaler(),\n",
              " 'poly': PolynomialFeatures(degree=1),\n",
              " 'poly__degree': 1}"
            ]
          },
          "metadata": {},
          "execution_count": 362
        }
      ]
    },
    {
      "cell_type": "code",
      "source": [
        "grid.best_score_"
      ],
      "metadata": {
        "colab": {
          "base_uri": "https://localhost:8080/"
        },
        "id": "Y9qng8v8UxBn",
        "outputId": "48b6a374-5ba8-45f6-8ea0-3089d8a71718"
      },
      "execution_count": null,
      "outputs": [
        {
          "output_type": "execute_result",
          "data": {
            "text/plain": [
              "0.8487900114267063"
            ]
          },
          "metadata": {},
          "execution_count": 403
        }
      ]
    },
    {
      "cell_type": "markdown",
      "source": [
        "## Evaluación del modelo y preguntas de análisis:"
      ],
      "metadata": {
        "id": "mPySQbzqcNgc"
      }
    },
    {
      "cell_type": "code",
      "execution_count": 363,
      "metadata": {
        "id": "zL2BZ6noZZAz"
      },
      "outputs": [],
      "source": [
        "#predicciones con los datos de entrenamiento\n",
        "y_pred_train = grid.best_estimator_.predict(x_train)\n",
        "#predicciones con los datos de test\n",
        "y_pred_test = grid.best_estimator_.predict(x_test)"
      ]
    },
    {
      "cell_type": "code",
      "source": [
        "report_train = classification_report(y_train, y_pred_train)\n",
        "report_test = classification_report(y_test, y_pred_test)\n",
        "\n",
        "print(\"Train Report\\n\", report_train)\n",
        "print(\"Test Report\\n\", report_test)"
      ],
      "metadata": {
        "colab": {
          "base_uri": "https://localhost:8080/"
        },
        "id": "sqAgLPphK8qy",
        "outputId": "dbf4aeff-17e2-4a05-bdac-37d75d34faea"
      },
      "execution_count": 364,
      "outputs": [
        {
          "output_type": "stream",
          "name": "stdout",
          "text": [
            "Train Report\n",
            "               precision    recall  f1-score   support\n",
            "\n",
            "          No       0.84      0.91      0.87      3519\n",
            "         Yes       0.67      0.52      0.59      1281\n",
            "\n",
            "    accuracy                           0.80      4800\n",
            "   macro avg       0.76      0.71      0.73      4800\n",
            "weighted avg       0.79      0.80      0.80      4800\n",
            "\n",
            "Test Report\n",
            "               precision    recall  f1-score   support\n",
            "\n",
            "          No       0.85      0.91      0.88       889\n",
            "         Yes       0.67      0.54      0.60       311\n",
            "\n",
            "    accuracy                           0.81      1200\n",
            "   macro avg       0.76      0.72      0.74      1200\n",
            "weighted avg       0.80      0.81      0.80      1200\n",
            "\n"
          ]
        }
      ]
    },
    {
      "cell_type": "markdown",
      "source": [
        "### Aspectos más relevantes\n",
        "Detalle los aspectos más relevantes del mejor modelo encontrado y sus resultados de diferentes métricas para los datasets de entrenamiento, validación y prueba\n"
      ],
      "metadata": {
        "id": "qpdTrDRybuWb"
      }
    },
    {
      "cell_type": "markdown",
      "source": [
        "De acuerdo con la búsqueda de mejor modelo, usando GridSearchCV y con lo parámetros escogidos, en este caso se encontró que el mejor modelo se obtiene con una Regresión Logística usando regularización L2, un C igual a 1 y normalizando con StandardScaler. Este modelo, obtuvo un score de 0.84879"
      ],
      "metadata": {
        "id": "5VuJuAdsN0hD"
      }
    },
    {
      "cell_type": "markdown",
      "source": [
        "Respecto a los resultados de las métricas de entrenamiento y las de prueba, se opbserva que los mejores resultados corresponden a la clase 'No', esto en parte es debido a que hay un desbalanceo de datos como se describe en la etapa de exploración de datos. Dado el requerimiento de negocio, se quiere predecir si un cliente es propenso abandonar los servicios que actualmente tiene contratados con la empresa, revisando la métrica de recall para la categpría 'Yes' con los datos que no conoce el modelo es del 54%, lo cual resulta no ser tan bueno para esta clase que es demás interés."
      ],
      "metadata": {
        "id": "porMkQ2CSdna"
      }
    },
    {
      "cell_type": "code",
      "source": [
        "#Visaulización de scoriong de las otras opciones de modelo:\n",
        "pd.DataFrame(grid.cv_results_)"
      ],
      "metadata": {
        "colab": {
          "base_uri": "https://localhost:8080/",
          "height": 661
        },
        "id": "goDeAjG1P7Xi",
        "outputId": "95315c46-1d04-486d-a8d5-3bee540ec741"
      },
      "execution_count": 401,
      "outputs": [
        {
          "output_type": "execute_result",
          "data": {
            "text/plain": [
              "     mean_fit_time  std_fit_time  mean_score_time  std_score_time  \\\n",
              "0         0.102436      0.004995         0.027102        0.001132   \n",
              "1         0.096946      0.004699         0.027040        0.000792   \n",
              "2         0.097398      0.007902         0.026791        0.001521   \n",
              "3         0.107376      0.008304         0.027636        0.000927   \n",
              "4         0.099863      0.002468         0.026798        0.000539   \n",
              "..             ...           ...              ...             ...   \n",
              "155       1.159025      0.021669         0.322164        0.016085   \n",
              "156       1.819505      0.154058         0.254829        0.005471   \n",
              "157       4.110324      0.589241         0.196693        0.004514   \n",
              "158       1.144330      0.006893         0.327102        0.020046   \n",
              "159       1.056612      0.113878         0.281340        0.051463   \n",
              "\n",
              "                            param_classifier param_classifier__class_weight  \\\n",
              "0    DecisionTreeClassifier(random_state=20)                       balanced   \n",
              "1    DecisionTreeClassifier(random_state=20)                       balanced   \n",
              "2    DecisionTreeClassifier(random_state=20)                       balanced   \n",
              "3    DecisionTreeClassifier(random_state=20)                       balanced   \n",
              "4    DecisionTreeClassifier(random_state=20)                       balanced   \n",
              "..                                       ...                            ...   \n",
              "155                     SVC(random_state=32)                            NaN   \n",
              "156                     SVC(random_state=32)                            NaN   \n",
              "157                     SVC(random_state=32)                            NaN   \n",
              "158                     SVC(random_state=32)                            NaN   \n",
              "159                     SVC(random_state=32)                            NaN   \n",
              "\n",
              "    param_classifier__criterion param_classifier__max_depth  param_normalizer  \\\n",
              "0                          gini                           2  StandardScaler()   \n",
              "1                          gini                           2    MinMaxScaler()   \n",
              "2                          gini                           2       passthrough   \n",
              "3                          gini                           3  StandardScaler()   \n",
              "4                          gini                           3    MinMaxScaler()   \n",
              "..                          ...                         ...               ...   \n",
              "155                         NaN                         NaN    MinMaxScaler()   \n",
              "156                         NaN                         NaN  StandardScaler()   \n",
              "157                         NaN                         NaN    MinMaxScaler()   \n",
              "158                         NaN                         NaN  StandardScaler()   \n",
              "159                         NaN                         NaN    MinMaxScaler()   \n",
              "\n",
              "    param_classifier__C  ... param_classifier__kernel  \\\n",
              "0                   NaN  ...                      NaN   \n",
              "1                   NaN  ...                      NaN   \n",
              "2                   NaN  ...                      NaN   \n",
              "3                   NaN  ...                      NaN   \n",
              "4                   NaN  ...                      NaN   \n",
              "..                  ...  ...                      ...   \n",
              "155                 NaN  ...                      rbf   \n",
              "156                 NaN  ...                     poly   \n",
              "157                 NaN  ...                     poly   \n",
              "158                 NaN  ...                      rbf   \n",
              "159                 NaN  ...                      rbf   \n",
              "\n",
              "                                                params split0_test_score  \\\n",
              "0    {'classifier': DecisionTreeClassifier(random_s...          0.773210   \n",
              "1    {'classifier': DecisionTreeClassifier(random_s...          0.773210   \n",
              "2    {'classifier': DecisionTreeClassifier(random_s...          0.773210   \n",
              "3    {'classifier': DecisionTreeClassifier(random_s...          0.805728   \n",
              "4    {'classifier': DecisionTreeClassifier(random_s...          0.805728   \n",
              "..                                                 ...               ...   \n",
              "155  {'classifier': SVC(random_state=32), 'classifi...          0.793091   \n",
              "156  {'classifier': SVC(random_state=32), 'classifi...          0.668157   \n",
              "157  {'classifier': SVC(random_state=32), 'classifi...          0.660234   \n",
              "158  {'classifier': SVC(random_state=32), 'classifi...          0.788624   \n",
              "159  {'classifier': SVC(random_state=32), 'classifi...          0.793091   \n",
              "\n",
              "    split1_test_score split2_test_score split3_test_score split4_test_score  \\\n",
              "0            0.788313          0.791842          0.778698          0.789166   \n",
              "1            0.788313          0.791842          0.778698          0.789166   \n",
              "2            0.788313          0.791842          0.778698          0.789166   \n",
              "3            0.822005          0.809590          0.800870          0.814898   \n",
              "4            0.822005          0.809590          0.800870          0.814898   \n",
              "..                ...               ...               ...               ...   \n",
              "155          0.810192          0.806446          0.811940          0.791818   \n",
              "156          0.669428          0.675371          0.683283          0.659373   \n",
              "157          0.676702          0.680792          0.683549          0.666612   \n",
              "158          0.807268          0.806014          0.811967          0.789172   \n",
              "159          0.810192          0.806446          0.811940          0.791818   \n",
              "\n",
              "    mean_test_score  std_test_score  rank_test_score  \n",
              "0          0.784246        0.007086               84  \n",
              "1          0.784246        0.007086               84  \n",
              "2          0.784246        0.007086               84  \n",
              "3          0.810618        0.007321               60  \n",
              "4          0.810618        0.007321               60  \n",
              "..              ...             ...              ...  \n",
              "155        0.802697        0.008559               69  \n",
              "156        0.671122        0.007945              124  \n",
              "157        0.673578        0.008807              123  \n",
              "158        0.800609        0.009767               73  \n",
              "159        0.802697        0.008559               69  \n",
              "\n",
              "[160 rows x 26 columns]"
            ],
            "text/html": [
              "\n",
              "  <div id=\"df-f4aa960e-e01a-4e6d-8972-c9a7dd6e70f6\">\n",
              "    <div class=\"colab-df-container\">\n",
              "      <div>\n",
              "<style scoped>\n",
              "    .dataframe tbody tr th:only-of-type {\n",
              "        vertical-align: middle;\n",
              "    }\n",
              "\n",
              "    .dataframe tbody tr th {\n",
              "        vertical-align: top;\n",
              "    }\n",
              "\n",
              "    .dataframe thead th {\n",
              "        text-align: right;\n",
              "    }\n",
              "</style>\n",
              "<table border=\"1\" class=\"dataframe\">\n",
              "  <thead>\n",
              "    <tr style=\"text-align: right;\">\n",
              "      <th></th>\n",
              "      <th>mean_fit_time</th>\n",
              "      <th>std_fit_time</th>\n",
              "      <th>mean_score_time</th>\n",
              "      <th>std_score_time</th>\n",
              "      <th>param_classifier</th>\n",
              "      <th>param_classifier__class_weight</th>\n",
              "      <th>param_classifier__criterion</th>\n",
              "      <th>param_classifier__max_depth</th>\n",
              "      <th>param_normalizer</th>\n",
              "      <th>param_classifier__C</th>\n",
              "      <th>...</th>\n",
              "      <th>param_classifier__kernel</th>\n",
              "      <th>params</th>\n",
              "      <th>split0_test_score</th>\n",
              "      <th>split1_test_score</th>\n",
              "      <th>split2_test_score</th>\n",
              "      <th>split3_test_score</th>\n",
              "      <th>split4_test_score</th>\n",
              "      <th>mean_test_score</th>\n",
              "      <th>std_test_score</th>\n",
              "      <th>rank_test_score</th>\n",
              "    </tr>\n",
              "  </thead>\n",
              "  <tbody>\n",
              "    <tr>\n",
              "      <th>0</th>\n",
              "      <td>0.102436</td>\n",
              "      <td>0.004995</td>\n",
              "      <td>0.027102</td>\n",
              "      <td>0.001132</td>\n",
              "      <td>DecisionTreeClassifier(random_state=20)</td>\n",
              "      <td>balanced</td>\n",
              "      <td>gini</td>\n",
              "      <td>2</td>\n",
              "      <td>StandardScaler()</td>\n",
              "      <td>NaN</td>\n",
              "      <td>...</td>\n",
              "      <td>NaN</td>\n",
              "      <td>{'classifier': DecisionTreeClassifier(random_s...</td>\n",
              "      <td>0.773210</td>\n",
              "      <td>0.788313</td>\n",
              "      <td>0.791842</td>\n",
              "      <td>0.778698</td>\n",
              "      <td>0.789166</td>\n",
              "      <td>0.784246</td>\n",
              "      <td>0.007086</td>\n",
              "      <td>84</td>\n",
              "    </tr>\n",
              "    <tr>\n",
              "      <th>1</th>\n",
              "      <td>0.096946</td>\n",
              "      <td>0.004699</td>\n",
              "      <td>0.027040</td>\n",
              "      <td>0.000792</td>\n",
              "      <td>DecisionTreeClassifier(random_state=20)</td>\n",
              "      <td>balanced</td>\n",
              "      <td>gini</td>\n",
              "      <td>2</td>\n",
              "      <td>MinMaxScaler()</td>\n",
              "      <td>NaN</td>\n",
              "      <td>...</td>\n",
              "      <td>NaN</td>\n",
              "      <td>{'classifier': DecisionTreeClassifier(random_s...</td>\n",
              "      <td>0.773210</td>\n",
              "      <td>0.788313</td>\n",
              "      <td>0.791842</td>\n",
              "      <td>0.778698</td>\n",
              "      <td>0.789166</td>\n",
              "      <td>0.784246</td>\n",
              "      <td>0.007086</td>\n",
              "      <td>84</td>\n",
              "    </tr>\n",
              "    <tr>\n",
              "      <th>2</th>\n",
              "      <td>0.097398</td>\n",
              "      <td>0.007902</td>\n",
              "      <td>0.026791</td>\n",
              "      <td>0.001521</td>\n",
              "      <td>DecisionTreeClassifier(random_state=20)</td>\n",
              "      <td>balanced</td>\n",
              "      <td>gini</td>\n",
              "      <td>2</td>\n",
              "      <td>passthrough</td>\n",
              "      <td>NaN</td>\n",
              "      <td>...</td>\n",
              "      <td>NaN</td>\n",
              "      <td>{'classifier': DecisionTreeClassifier(random_s...</td>\n",
              "      <td>0.773210</td>\n",
              "      <td>0.788313</td>\n",
              "      <td>0.791842</td>\n",
              "      <td>0.778698</td>\n",
              "      <td>0.789166</td>\n",
              "      <td>0.784246</td>\n",
              "      <td>0.007086</td>\n",
              "      <td>84</td>\n",
              "    </tr>\n",
              "    <tr>\n",
              "      <th>3</th>\n",
              "      <td>0.107376</td>\n",
              "      <td>0.008304</td>\n",
              "      <td>0.027636</td>\n",
              "      <td>0.000927</td>\n",
              "      <td>DecisionTreeClassifier(random_state=20)</td>\n",
              "      <td>balanced</td>\n",
              "      <td>gini</td>\n",
              "      <td>3</td>\n",
              "      <td>StandardScaler()</td>\n",
              "      <td>NaN</td>\n",
              "      <td>...</td>\n",
              "      <td>NaN</td>\n",
              "      <td>{'classifier': DecisionTreeClassifier(random_s...</td>\n",
              "      <td>0.805728</td>\n",
              "      <td>0.822005</td>\n",
              "      <td>0.809590</td>\n",
              "      <td>0.800870</td>\n",
              "      <td>0.814898</td>\n",
              "      <td>0.810618</td>\n",
              "      <td>0.007321</td>\n",
              "      <td>60</td>\n",
              "    </tr>\n",
              "    <tr>\n",
              "      <th>4</th>\n",
              "      <td>0.099863</td>\n",
              "      <td>0.002468</td>\n",
              "      <td>0.026798</td>\n",
              "      <td>0.000539</td>\n",
              "      <td>DecisionTreeClassifier(random_state=20)</td>\n",
              "      <td>balanced</td>\n",
              "      <td>gini</td>\n",
              "      <td>3</td>\n",
              "      <td>MinMaxScaler()</td>\n",
              "      <td>NaN</td>\n",
              "      <td>...</td>\n",
              "      <td>NaN</td>\n",
              "      <td>{'classifier': DecisionTreeClassifier(random_s...</td>\n",
              "      <td>0.805728</td>\n",
              "      <td>0.822005</td>\n",
              "      <td>0.809590</td>\n",
              "      <td>0.800870</td>\n",
              "      <td>0.814898</td>\n",
              "      <td>0.810618</td>\n",
              "      <td>0.007321</td>\n",
              "      <td>60</td>\n",
              "    </tr>\n",
              "    <tr>\n",
              "      <th>...</th>\n",
              "      <td>...</td>\n",
              "      <td>...</td>\n",
              "      <td>...</td>\n",
              "      <td>...</td>\n",
              "      <td>...</td>\n",
              "      <td>...</td>\n",
              "      <td>...</td>\n",
              "      <td>...</td>\n",
              "      <td>...</td>\n",
              "      <td>...</td>\n",
              "      <td>...</td>\n",
              "      <td>...</td>\n",
              "      <td>...</td>\n",
              "      <td>...</td>\n",
              "      <td>...</td>\n",
              "      <td>...</td>\n",
              "      <td>...</td>\n",
              "      <td>...</td>\n",
              "      <td>...</td>\n",
              "      <td>...</td>\n",
              "      <td>...</td>\n",
              "    </tr>\n",
              "    <tr>\n",
              "      <th>155</th>\n",
              "      <td>1.159025</td>\n",
              "      <td>0.021669</td>\n",
              "      <td>0.322164</td>\n",
              "      <td>0.016085</td>\n",
              "      <td>SVC(random_state=32)</td>\n",
              "      <td>NaN</td>\n",
              "      <td>NaN</td>\n",
              "      <td>NaN</td>\n",
              "      <td>MinMaxScaler()</td>\n",
              "      <td>NaN</td>\n",
              "      <td>...</td>\n",
              "      <td>rbf</td>\n",
              "      <td>{'classifier': SVC(random_state=32), 'classifi...</td>\n",
              "      <td>0.793091</td>\n",
              "      <td>0.810192</td>\n",
              "      <td>0.806446</td>\n",
              "      <td>0.811940</td>\n",
              "      <td>0.791818</td>\n",
              "      <td>0.802697</td>\n",
              "      <td>0.008559</td>\n",
              "      <td>69</td>\n",
              "    </tr>\n",
              "    <tr>\n",
              "      <th>156</th>\n",
              "      <td>1.819505</td>\n",
              "      <td>0.154058</td>\n",
              "      <td>0.254829</td>\n",
              "      <td>0.005471</td>\n",
              "      <td>SVC(random_state=32)</td>\n",
              "      <td>NaN</td>\n",
              "      <td>NaN</td>\n",
              "      <td>NaN</td>\n",
              "      <td>StandardScaler()</td>\n",
              "      <td>NaN</td>\n",
              "      <td>...</td>\n",
              "      <td>poly</td>\n",
              "      <td>{'classifier': SVC(random_state=32), 'classifi...</td>\n",
              "      <td>0.668157</td>\n",
              "      <td>0.669428</td>\n",
              "      <td>0.675371</td>\n",
              "      <td>0.683283</td>\n",
              "      <td>0.659373</td>\n",
              "      <td>0.671122</td>\n",
              "      <td>0.007945</td>\n",
              "      <td>124</td>\n",
              "    </tr>\n",
              "    <tr>\n",
              "      <th>157</th>\n",
              "      <td>4.110324</td>\n",
              "      <td>0.589241</td>\n",
              "      <td>0.196693</td>\n",
              "      <td>0.004514</td>\n",
              "      <td>SVC(random_state=32)</td>\n",
              "      <td>NaN</td>\n",
              "      <td>NaN</td>\n",
              "      <td>NaN</td>\n",
              "      <td>MinMaxScaler()</td>\n",
              "      <td>NaN</td>\n",
              "      <td>...</td>\n",
              "      <td>poly</td>\n",
              "      <td>{'classifier': SVC(random_state=32), 'classifi...</td>\n",
              "      <td>0.660234</td>\n",
              "      <td>0.676702</td>\n",
              "      <td>0.680792</td>\n",
              "      <td>0.683549</td>\n",
              "      <td>0.666612</td>\n",
              "      <td>0.673578</td>\n",
              "      <td>0.008807</td>\n",
              "      <td>123</td>\n",
              "    </tr>\n",
              "    <tr>\n",
              "      <th>158</th>\n",
              "      <td>1.144330</td>\n",
              "      <td>0.006893</td>\n",
              "      <td>0.327102</td>\n",
              "      <td>0.020046</td>\n",
              "      <td>SVC(random_state=32)</td>\n",
              "      <td>NaN</td>\n",
              "      <td>NaN</td>\n",
              "      <td>NaN</td>\n",
              "      <td>StandardScaler()</td>\n",
              "      <td>NaN</td>\n",
              "      <td>...</td>\n",
              "      <td>rbf</td>\n",
              "      <td>{'classifier': SVC(random_state=32), 'classifi...</td>\n",
              "      <td>0.788624</td>\n",
              "      <td>0.807268</td>\n",
              "      <td>0.806014</td>\n",
              "      <td>0.811967</td>\n",
              "      <td>0.789172</td>\n",
              "      <td>0.800609</td>\n",
              "      <td>0.009767</td>\n",
              "      <td>73</td>\n",
              "    </tr>\n",
              "    <tr>\n",
              "      <th>159</th>\n",
              "      <td>1.056612</td>\n",
              "      <td>0.113878</td>\n",
              "      <td>0.281340</td>\n",
              "      <td>0.051463</td>\n",
              "      <td>SVC(random_state=32)</td>\n",
              "      <td>NaN</td>\n",
              "      <td>NaN</td>\n",
              "      <td>NaN</td>\n",
              "      <td>MinMaxScaler()</td>\n",
              "      <td>NaN</td>\n",
              "      <td>...</td>\n",
              "      <td>rbf</td>\n",
              "      <td>{'classifier': SVC(random_state=32), 'classifi...</td>\n",
              "      <td>0.793091</td>\n",
              "      <td>0.810192</td>\n",
              "      <td>0.806446</td>\n",
              "      <td>0.811940</td>\n",
              "      <td>0.791818</td>\n",
              "      <td>0.802697</td>\n",
              "      <td>0.008559</td>\n",
              "      <td>69</td>\n",
              "    </tr>\n",
              "  </tbody>\n",
              "</table>\n",
              "<p>160 rows × 26 columns</p>\n",
              "</div>\n",
              "      <button class=\"colab-df-convert\" onclick=\"convertToInteractive('df-f4aa960e-e01a-4e6d-8972-c9a7dd6e70f6')\"\n",
              "              title=\"Convert this dataframe to an interactive table.\"\n",
              "              style=\"display:none;\">\n",
              "        \n",
              "  <svg xmlns=\"http://www.w3.org/2000/svg\" height=\"24px\"viewBox=\"0 0 24 24\"\n",
              "       width=\"24px\">\n",
              "    <path d=\"M0 0h24v24H0V0z\" fill=\"none\"/>\n",
              "    <path d=\"M18.56 5.44l.94 2.06.94-2.06 2.06-.94-2.06-.94-.94-2.06-.94 2.06-2.06.94zm-11 1L8.5 8.5l.94-2.06 2.06-.94-2.06-.94L8.5 2.5l-.94 2.06-2.06.94zm10 10l.94 2.06.94-2.06 2.06-.94-2.06-.94-.94-2.06-.94 2.06-2.06.94z\"/><path d=\"M17.41 7.96l-1.37-1.37c-.4-.4-.92-.59-1.43-.59-.52 0-1.04.2-1.43.59L10.3 9.45l-7.72 7.72c-.78.78-.78 2.05 0 2.83L4 21.41c.39.39.9.59 1.41.59.51 0 1.02-.2 1.41-.59l7.78-7.78 2.81-2.81c.8-.78.8-2.07 0-2.86zM5.41 20L4 18.59l7.72-7.72 1.47 1.35L5.41 20z\"/>\n",
              "  </svg>\n",
              "      </button>\n",
              "      \n",
              "  <style>\n",
              "    .colab-df-container {\n",
              "      display:flex;\n",
              "      flex-wrap:wrap;\n",
              "      gap: 12px;\n",
              "    }\n",
              "\n",
              "    .colab-df-convert {\n",
              "      background-color: #E8F0FE;\n",
              "      border: none;\n",
              "      border-radius: 50%;\n",
              "      cursor: pointer;\n",
              "      display: none;\n",
              "      fill: #1967D2;\n",
              "      height: 32px;\n",
              "      padding: 0 0 0 0;\n",
              "      width: 32px;\n",
              "    }\n",
              "\n",
              "    .colab-df-convert:hover {\n",
              "      background-color: #E2EBFA;\n",
              "      box-shadow: 0px 1px 2px rgba(60, 64, 67, 0.3), 0px 1px 3px 1px rgba(60, 64, 67, 0.15);\n",
              "      fill: #174EA6;\n",
              "    }\n",
              "\n",
              "    [theme=dark] .colab-df-convert {\n",
              "      background-color: #3B4455;\n",
              "      fill: #D2E3FC;\n",
              "    }\n",
              "\n",
              "    [theme=dark] .colab-df-convert:hover {\n",
              "      background-color: #434B5C;\n",
              "      box-shadow: 0px 1px 3px 1px rgba(0, 0, 0, 0.15);\n",
              "      filter: drop-shadow(0px 1px 2px rgba(0, 0, 0, 0.3));\n",
              "      fill: #FFFFFF;\n",
              "    }\n",
              "  </style>\n",
              "\n",
              "      <script>\n",
              "        const buttonEl =\n",
              "          document.querySelector('#df-f4aa960e-e01a-4e6d-8972-c9a7dd6e70f6 button.colab-df-convert');\n",
              "        buttonEl.style.display =\n",
              "          google.colab.kernel.accessAllowed ? 'block' : 'none';\n",
              "\n",
              "        async function convertToInteractive(key) {\n",
              "          const element = document.querySelector('#df-f4aa960e-e01a-4e6d-8972-c9a7dd6e70f6');\n",
              "          const dataTable =\n",
              "            await google.colab.kernel.invokeFunction('convertToInteractive',\n",
              "                                                     [key], {});\n",
              "          if (!dataTable) return;\n",
              "\n",
              "          const docLinkHtml = 'Like what you see? Visit the ' +\n",
              "            '<a target=\"_blank\" href=https://colab.research.google.com/notebooks/data_table.ipynb>data table notebook</a>'\n",
              "            + ' to learn more about interactive tables.';\n",
              "          element.innerHTML = '';\n",
              "          dataTable['output_type'] = 'display_data';\n",
              "          await google.colab.output.renderOutput(dataTable, element);\n",
              "          const docLink = document.createElement('div');\n",
              "          docLink.innerHTML = docLinkHtml;\n",
              "          element.appendChild(docLink);\n",
              "        }\n",
              "      </script>\n",
              "    </div>\n",
              "  </div>\n",
              "  "
            ]
          },
          "metadata": {},
          "execution_count": 401
        }
      ]
    },
    {
      "cell_type": "code",
      "execution_count": 399,
      "metadata": {
        "id": "d5f4c470-d652-42a1-bf61-7b9923f57a9f"
      },
      "outputs": [],
      "source": [
        "best_model = grid.best_estimator_\n",
        "test_preds_proba = best_model.predict_proba(x_test)[:, 1]"
      ]
    },
    {
      "cell_type": "code",
      "execution_count": 405,
      "metadata": {
        "id": "6a6c77b7-b2d3-4ee8-adbb-770c300c7b36"
      },
      "outputs": [],
      "source": [
        "x_test['ChurnPredict'] = y_test\n",
        "x_test['prob'] = test_preds_proba"
      ]
    },
    {
      "cell_type": "markdown",
      "source": [
        "Se grafica la probabilidad de predicción de la clase 'Yes' para los datos de test:"
      ],
      "metadata": {
        "id": "XNN7csAqIYJH"
      }
    },
    {
      "cell_type": "code",
      "source": [
        "plt.hist(test_preds_proba)\n",
        "plt.title('Probability predictions for test dataset')\n",
        "plt.show()"
      ],
      "metadata": {
        "colab": {
          "base_uri": "https://localhost:8080/",
          "height": 281
        },
        "id": "39WRpIJGIQYh",
        "outputId": "8370eb63-26dd-4994-c100-0e89a36c8d0d"
      },
      "execution_count": 369,
      "outputs": [
        {
          "output_type": "display_data",
          "data": {
            "text/plain": [
              "<Figure size 432x288 with 1 Axes>"
            ],
            "image/png": "[encoded data removed]"
          },
          "metadata": {
            "needs_background": "light"
          }
        }
      ]
    },
    {
      "cell_type": "markdown",
      "source": [
        "Se observa que la probabilidad que sea de la clase 'Yes' para el set de datos de prueba es muy baja."
      ],
      "metadata": {
        "id": "-Yb71NCbWUcT"
      }
    },
    {
      "cell_type": "code",
      "source": [
        "x_test.corr()"
      ],
      "metadata": {
        "colab": {
          "base_uri": "https://localhost:8080/",
          "height": 206
        },
        "id": "-CamIiVeWNVk",
        "outputId": "c12d674b-c8a2-4d25-d46f-dbc4cae0cc6b"
      },
      "execution_count": 408,
      "outputs": [
        {
          "output_type": "execute_result",
          "data": {
            "text/plain": [
              "                SeniorCitizen    tenure  MonthlyCharges  TotalCharges  \\\n",
              "SeniorCitizen        1.000000  0.038533        0.210575      0.116357   \n",
              "tenure               0.038533  1.000000        0.284334      0.838629   \n",
              "MonthlyCharges       0.210575  0.284334        1.000000      0.663110   \n",
              "TotalCharges         0.116357  0.838629        0.663110      1.000000   \n",
              "prob                 0.233669 -0.617723        0.300557     -0.367631   \n",
              "\n",
              "                    prob  \n",
              "SeniorCitizen   0.233669  \n",
              "tenure         -0.617723  \n",
              "MonthlyCharges  0.300557  \n",
              "TotalCharges   -0.367631  \n",
              "prob            1.000000  "
            ],
            "text/html": [
              "\n",
              "  <div id=\"df-6748f190-a25e-43a6-9d60-35a2ed80c736\">\n",
              "    <div class=\"colab-df-container\">\n",
              "      <div>\n",
              "<style scoped>\n",
              "    .dataframe tbody tr th:only-of-type {\n",
              "        vertical-align: middle;\n",
              "    }\n",
              "\n",
              "    .dataframe tbody tr th {\n",
              "        vertical-align: top;\n",
              "    }\n",
              "\n",
              "    .dataframe thead th {\n",
              "        text-align: right;\n",
              "    }\n",
              "</style>\n",
              "<table border=\"1\" class=\"dataframe\">\n",
              "  <thead>\n",
              "    <tr style=\"text-align: right;\">\n",
              "      <th></th>\n",
              "      <th>SeniorCitizen</th>\n",
              "      <th>tenure</th>\n",
              "      <th>MonthlyCharges</th>\n",
              "      <th>TotalCharges</th>\n",
              "      <th>prob</th>\n",
              "    </tr>\n",
              "  </thead>\n",
              "  <tbody>\n",
              "    <tr>\n",
              "      <th>SeniorCitizen</th>\n",
              "      <td>1.000000</td>\n",
              "      <td>0.038533</td>\n",
              "      <td>0.210575</td>\n",
              "      <td>0.116357</td>\n",
              "      <td>0.233669</td>\n",
              "    </tr>\n",
              "    <tr>\n",
              "      <th>tenure</th>\n",
              "      <td>0.038533</td>\n",
              "      <td>1.000000</td>\n",
              "      <td>0.284334</td>\n",
              "      <td>0.838629</td>\n",
              "      <td>-0.617723</td>\n",
              "    </tr>\n",
              "    <tr>\n",
              "      <th>MonthlyCharges</th>\n",
              "      <td>0.210575</td>\n",
              "      <td>0.284334</td>\n",
              "      <td>1.000000</td>\n",
              "      <td>0.663110</td>\n",
              "      <td>0.300557</td>\n",
              "    </tr>\n",
              "    <tr>\n",
              "      <th>TotalCharges</th>\n",
              "      <td>0.116357</td>\n",
              "      <td>0.838629</td>\n",
              "      <td>0.663110</td>\n",
              "      <td>1.000000</td>\n",
              "      <td>-0.367631</td>\n",
              "    </tr>\n",
              "    <tr>\n",
              "      <th>prob</th>\n",
              "      <td>0.233669</td>\n",
              "      <td>-0.617723</td>\n",
              "      <td>0.300557</td>\n",
              "      <td>-0.367631</td>\n",
              "      <td>1.000000</td>\n",
              "    </tr>\n",
              "  </tbody>\n",
              "</table>\n",
              "</div>\n",
              "      <button class=\"colab-df-convert\" onclick=\"convertToInteractive('df-6748f190-a25e-43a6-9d60-35a2ed80c736')\"\n",
              "              title=\"Convert this dataframe to an interactive table.\"\n",
              "              style=\"display:none;\">\n",
              "        \n",
              "  <svg xmlns=\"http://www.w3.org/2000/svg\" height=\"24px\"viewBox=\"0 0 24 24\"\n",
              "       width=\"24px\">\n",
              "    <path d=\"M0 0h24v24H0V0z\" fill=\"none\"/>\n",
              "    <path d=\"M18.56 5.44l.94 2.06.94-2.06 2.06-.94-2.06-.94-.94-2.06-.94 2.06-2.06.94zm-11 1L8.5 8.5l.94-2.06 2.06-.94-2.06-.94L8.5 2.5l-.94 2.06-2.06.94zm10 10l.94 2.06.94-2.06 2.06-.94-2.06-.94-.94-2.06-.94 2.06-2.06.94z\"/><path d=\"M17.41 7.96l-1.37-1.37c-.4-.4-.92-.59-1.43-.59-.52 0-1.04.2-1.43.59L10.3 9.45l-7.72 7.72c-.78.78-.78 2.05 0 2.83L4 21.41c.39.39.9.59 1.41.59.51 0 1.02-.2 1.41-.59l7.78-7.78 2.81-2.81c.8-.78.8-2.07 0-2.86zM5.41 20L4 18.59l7.72-7.72 1.47 1.35L5.41 20z\"/>\n",
              "  </svg>\n",
              "      </button>\n",
              "      \n",
              "  <style>\n",
              "    .colab-df-container {\n",
              "      display:flex;\n",
              "      flex-wrap:wrap;\n",
              "      gap: 12px;\n",
              "    }\n",
              "\n",
              "    .colab-df-convert {\n",
              "      background-color: #E8F0FE;\n",
              "      border: none;\n",
              "      border-radius: 50%;\n",
              "      cursor: pointer;\n",
              "      display: none;\n",
              "      fill: #1967D2;\n",
              "      height: 32px;\n",
              "      padding: 0 0 0 0;\n",
              "      width: 32px;\n",
              "    }\n",
              "\n",
              "    .colab-df-convert:hover {\n",
              "      background-color: #E2EBFA;\n",
              "      box-shadow: 0px 1px 2px rgba(60, 64, 67, 0.3), 0px 1px 3px 1px rgba(60, 64, 67, 0.15);\n",
              "      fill: #174EA6;\n",
              "    }\n",
              "\n",
              "    [theme=dark] .colab-df-convert {\n",
              "      background-color: #3B4455;\n",
              "      fill: #D2E3FC;\n",
              "    }\n",
              "\n",
              "    [theme=dark] .colab-df-convert:hover {\n",
              "      background-color: #434B5C;\n",
              "      box-shadow: 0px 1px 3px 1px rgba(0, 0, 0, 0.15);\n",
              "      filter: drop-shadow(0px 1px 2px rgba(0, 0, 0, 0.3));\n",
              "      fill: #FFFFFF;\n",
              "    }\n",
              "  </style>\n",
              "\n",
              "      <script>\n",
              "        const buttonEl =\n",
              "          document.querySelector('#df-6748f190-a25e-43a6-9d60-35a2ed80c736 button.colab-df-convert');\n",
              "        buttonEl.style.display =\n",
              "          google.colab.kernel.accessAllowed ? 'block' : 'none';\n",
              "\n",
              "        async function convertToInteractive(key) {\n",
              "          const element = document.querySelector('#df-6748f190-a25e-43a6-9d60-35a2ed80c736');\n",
              "          const dataTable =\n",
              "            await google.colab.kernel.invokeFunction('convertToInteractive',\n",
              "                                                     [key], {});\n",
              "          if (!dataTable) return;\n",
              "\n",
              "          const docLinkHtml = 'Like what you see? Visit the ' +\n",
              "            '<a target=\"_blank\" href=https://colab.research.google.com/notebooks/data_table.ipynb>data table notebook</a>'\n",
              "            + ' to learn more about interactive tables.';\n",
              "          element.innerHTML = '';\n",
              "          dataTable['output_type'] = 'display_data';\n",
              "          await google.colab.output.renderOutput(dataTable, element);\n",
              "          const docLink = document.createElement('div');\n",
              "          docLink.innerHTML = docLinkHtml;\n",
              "          element.appendChild(docLink);\n",
              "        }\n",
              "      </script>\n",
              "    </div>\n",
              "  </div>\n",
              "  "
            ]
          },
          "metadata": {},
          "execution_count": 408
        }
      ]
    },
    {
      "cell_type": "markdown",
      "source": [
        "Al hacer correlación entre las variables numéricas la más fuerte entre la posibilidad de ser 'Yes' es con el valor de 'tenure'."
      ],
      "metadata": {
        "id": "KIVgbf6iaRW6"
      }
    },
    {
      "cell_type": "code",
      "source": [
        "plt.figure(figsize = (15, 3))\n",
        "sns.boxplot(data = x_test, x = 'tenure', y = 'ChurnPredict', orient = 'h')\n",
        "plt.title('Tenure')\n",
        "plt.show()"
      ],
      "metadata": {
        "colab": {
          "base_uri": "https://localhost:8080/",
          "height": 241
        },
        "id": "Qi7wfxv_avr5",
        "outputId": "8b022d66-5c29-4881-8ef4-63318f04d118"
      },
      "execution_count": 413,
      "outputs": [
        {
          "output_type": "display_data",
          "data": {
            "text/plain": [
              "<Figure size 1080x216 with 1 Axes>"
            ],
            "image/png": "[encoded data removed]"
          },
          "metadata": {
            "needs_background": "light"
          }
        }
      ]
    },
    {
      "cell_type": "markdown",
      "source": [
        "Se puede observar que el modelo, suele clasificar con 'Yes' a aquellos clientes que llevan menos meses."
      ],
      "metadata": {
        "id": "-4s0f3HAb3Ev"
      }
    },
    {
      "cell_type": "markdown",
      "source": [
        "### ¿Se evidencian problemas de overfitting o underfitting?"
      ],
      "metadata": {
        "id": "rnKssLNGb526"
      }
    },
    {
      "cell_type": "markdown",
      "source": [
        "En este caso, en el accurracy del modelo se observa un sobrejauste del 1% cuando se comparan los resultados con los datos de entrenamiento y los datos de prueba. Es un sobreajuste muy pequeño, ahora si se observa en detalle de las clases: \n",
        "\n",
        "En el caso del 'No' el recall es el mismo para ambos, mientras que la precision y el f1-score es 1% mejor en los datos de prueba.\n",
        "\n",
        "Para el caso de 'Yes', la precisión es la misma en ambos casos pero el recall y el f1-score es mejor en 1% con los datos de prueba.\n",
        "\n",
        "Como son valores del 1%, los consideramos como un valor pequeño, por lo que como tal no vemos ni overffitting o underfiting, consideramos que el modelo esta generalizando bien."
      ],
      "metadata": {
        "id": "sJSDyMhU1UgK"
      }
    },
    {
      "cell_type": "markdown",
      "source": [
        "### Investigue y describa por qué es preferible la métrica ROC AUC sobre las demás métricas como F1, Precision o Recall."
      ],
      "metadata": {
        "id": "xaord9T9b8DC"
      }
    },
    {
      "cell_type": "markdown",
      "source": [
        "La curva receiver operating characteristic (ROC) se utiliza con frecuencia para evaluar el rendimiento de los algoritmos de clasificación binaria y permite identificar que tan bien puede distinguir el modelo entre dos categorías.  La curva ROC proporciona una representación gráfica del rendimiento de un clasificador, en lugar de un único valor como la mayoría de las demás métricas. La curva ROC se obtiene calculando y trazando la tasa de verdaderos positivos frente a la tasa de falsos positivos para un único clasificador en una variedad de umbrales (por ejemplo, en el caso de una regresión logística es de 0.5 para hacer la distinción de las dos clases). Si se quiere ver solo como métrica, se usa ROC- AUC que hace referencia al área bajo la curva ROC. Por lo general, cuanto mayor es la puntuación AUC, mejor es el rendimiento de un clasificador para una tarea determinada.\n",
        "\n",
        "Este método es conveniente por las siguientes razones:\n",
        "\n",
        "  * Es invariable con respecto a la escala, mide qué tan bien se clasifican las predicciones, en lugar de sus valores absolutos.\n",
        "  * Es invariable con respecto al umbral de clasificación, mide la calidad de las predicciones del modelo, sin tener en cuenta qué umbral de clasificación se elige.\n",
        "\n",
        "\n",
        "La primera gran diferencia es que las demás métricas se calcula sobre las clases predichas mientras que calcula el AUC ROC sobre las puntuaciones predichas. Esto significa que tendrá que encontrar el umbral óptimo para su problema.\n",
        "\n",
        "En el F1, procesión y recall se tiene en cuenta las fracciones de clases positivas y negativas asignadas correctamente. En un problema muy desequilibrado, se obtendremos un accuracy realmente alto simplemente prediciendo que todas las observaciones pertenecen a la clase mayoritaria.\n"
      ],
      "metadata": {
        "id": "vA6koWfj3d-R"
      }
    },
    {
      "cell_type": "markdown",
      "source": [
        "### Export del mejor modelo"
      ],
      "metadata": {
        "id": "V_nQQn82b9QS"
      }
    },
    {
      "cell_type": "code",
      "source": [
        "dump(grid.best_estimator_, 'modelo.joblib')"
      ],
      "metadata": {
        "colab": {
          "base_uri": "https://localhost:8080/"
        },
        "outputId": "208bd0be-7bfc-402b-f7ae-0275f6de89c7",
        "id": "RP9m49ExVHB2"
      },
      "execution_count": 365,
      "outputs": [
        {
          "output_type": "execute_result",
          "data": {
            "text/plain": [
              "['modelo.joblib']"
            ]
          },
          "metadata": {},
          "execution_count": 365
        }
      ]
    }
  ]
}